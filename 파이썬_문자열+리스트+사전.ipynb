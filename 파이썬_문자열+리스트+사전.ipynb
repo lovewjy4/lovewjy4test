{
  "nbformat": 4,
  "nbformat_minor": 0,
  "metadata": {
    "colab": {
      "provenance": [],
      "authorship_tag": "ABX9TyMSQIzENG6ZZbLOM945Y2vH",
      "include_colab_link": true
    },
    "kernelspec": {
      "name": "python3",
      "display_name": "Python 3"
    },
    "language_info": {
      "name": "python"
    }
  },
  "cells": [
    {
      "cell_type": "markdown",
      "metadata": {
        "id": "view-in-github",
        "colab_type": "text"
      },
      "source": [
        "<a href=\"https://colab.research.google.com/github/lovewjy4/lovewjy4test/blob/main/%ED%8C%8C%EC%9D%B4%EC%8D%AC_%EB%AC%B8%EC%9E%90%EC%97%B4%2B%EB%A6%AC%EC%8A%A4%ED%8A%B8%2B%EC%82%AC%EC%A0%84.ipynb\" target=\"_parent\"><img src=\"https://colab.research.google.com/assets/colab-badge.svg\" alt=\"Open In Colab\"/></a>"
      ]
    },
    {
      "cell_type": "code",
      "execution_count": 1,
      "metadata": {
        "colab": {
          "base_uri": "https://localhost:8080/"
        },
        "id": "er3vXA7NZPAW",
        "outputId": "17e05531-130d-4459-94c9-d52ef7763080"
      },
      "outputs": [
        {
          "output_type": "stream",
          "name": "stdout",
          "text": [
            "t\n",
            "o\n"
          ]
        }
      ],
      "source": [
        "s = \"python\"\n",
        "print(s[2])\n",
        "print(s[-2])"
      ]
    },
    {
      "cell_type": "code",
      "source": [
        "s = \"python\"\n",
        "for c in s:\n",
        "  print(c, end=',')"
      ],
      "metadata": {
        "colab": {
          "base_uri": "https://localhost:8080/"
        },
        "id": "Vep2l-RnaK_f",
        "outputId": "4cc71d5a-8ac3-4c30-c4e1-a94379325772"
      },
      "execution_count": 2,
      "outputs": [
        {
          "output_type": "stream",
          "name": "stdout",
          "text": [
            "p,y,t,h,o,n,"
          ]
        }
      ]
    },
    {
      "cell_type": "code",
      "source": [
        "for i in range(len(s)):\n",
        "  print(s[i], end=',')"
      ],
      "metadata": {
        "colab": {
          "base_uri": "https://localhost:8080/"
        },
        "id": "yxFoRL3laabc",
        "outputId": "cd3d814e-5389-4f06-bfd1-a2a32ff310b3"
      },
      "execution_count": 3,
      "outputs": [
        {
          "output_type": "stream",
          "name": "stdout",
          "text": [
            "p,y,t,h,o,n,"
          ]
        }
      ]
    },
    {
      "cell_type": "code",
      "source": [
        "s = \"python\"\n",
        "print(s[2:5])\n",
        "print(s[3:])\n",
        "print(s[:4])\n",
        "print(s[2:-2])"
      ],
      "metadata": {
        "colab": {
          "base_uri": "https://localhost:8080/"
        },
        "id": "KLbQzWvEagJ2",
        "outputId": "b9e9f35c-1bbb-4aaa-fce0-927fca400931"
      },
      "execution_count": 4,
      "outputs": [
        {
          "output_type": "stream",
          "name": "stdout",
          "text": [
            "tho\n",
            "hon\n",
            "pyth\n",
            "th\n"
          ]
        }
      ]
    },
    {
      "cell_type": "code",
      "source": [
        "file = \"20171224-104830.jpg\"\n",
        "print(\"촬영 날짜 : \" + file[4:6] + \"월 \" + file[6:8] + \"일\")\n",
        "print(\"촬영 시간 : \" + file[9:11] + \"시 \" + file[11:13] + \"분\")\n",
        "print(\"확장자 : \" + file[-3:])"
      ],
      "metadata": {
        "colab": {
          "base_uri": "https://localhost:8080/"
        },
        "id": "6-QAnen0a7ip",
        "outputId": "2dca8830-8ff1-4632-e170-0690cc94745a"
      },
      "execution_count": 5,
      "outputs": [
        {
          "output_type": "stream",
          "name": "stdout",
          "text": [
            "촬영 날짜 : 12월 24일\n",
            "촬영 시간 : 10시 48분\n",
            "확장자 : jpg\n"
          ]
        }
      ]
    },
    {
      "cell_type": "code",
      "source": [
        "yoil = \"월화수목금토일\"\n",
        "print(yoil[::2])\n",
        "print(yoil[::-1])"
      ],
      "metadata": {
        "colab": {
          "base_uri": "https://localhost:8080/"
        },
        "id": "MXuk_1nmbTC_",
        "outputId": "dcddf1ce-904e-4845-e23e-a09a68ec1b21"
      },
      "execution_count": 6,
      "outputs": [
        {
          "output_type": "stream",
          "name": "stdout",
          "text": [
            "월수금일\n",
            "일토금목수화월\n"
          ]
        }
      ]
    },
    {
      "cell_type": "code",
      "source": [
        "s = \"python programming\"\n",
        "print(len(s))\n",
        "print(s.find('o'))\n",
        "print(s.rfind('o'))\n",
        "print(s.index('r'))\n",
        "print(s.count('n'))"
      ],
      "metadata": {
        "colab": {
          "base_uri": "https://localhost:8080/"
        },
        "id": "bqKPnxIFbmc5",
        "outputId": "4f05c408-fa09-4820-e11b-a10b241f970f"
      },
      "execution_count": 7,
      "outputs": [
        {
          "output_type": "stream",
          "name": "stdout",
          "text": [
            "18\n",
            "4\n",
            "9\n",
            "8\n",
            "2\n"
          ]
        }
      ]
    },
    {
      "cell_type": "code",
      "source": [
        "s = \"\"\"생각이란 생각할수록 생각나므로 생각하지 말아야 할 생각은 생각하지\n",
        "않으려고 하는 생각이 옳은 생각이라고 생각합니다.\"\"\"\n",
        "print(\"생각의 출현 횟수 : \", s.count('생각'))"
      ],
      "metadata": {
        "colab": {
          "base_uri": "https://localhost:8080/"
        },
        "id": "zxk8spdMb8NA",
        "outputId": "d4f7055c-682b-4ec8-8b44-b07b92f06b67"
      },
      "execution_count": 8,
      "outputs": [
        {
          "output_type": "stream",
          "name": "stdout",
          "text": [
            "생각의 출현 횟수 :  9\n"
          ]
        }
      ]
    },
    {
      "cell_type": "code",
      "source": [
        "s = \"python programming\"\n",
        "print('a' in s)\n",
        "print('z' in s)\n",
        "print('pro' in s)\n",
        "print('x' not in s)"
      ],
      "metadata": {
        "colab": {
          "base_uri": "https://localhost:8080/"
        },
        "id": "SVGzsRIycgf2",
        "outputId": "8edbd593-24c0-417b-e308-8544a8942e70"
      },
      "execution_count": 9,
      "outputs": [
        {
          "output_type": "stream",
          "name": "stdout",
          "text": [
            "True\n",
            "False\n",
            "True\n",
            "True\n"
          ]
        }
      ]
    },
    {
      "cell_type": "code",
      "source": [
        "name = \"김한결\"\n",
        "if name.startswith(\"김\"):\n",
        "  print(\"김가입니다.\")\n",
        "if name.startswith(\"한\"):\n",
        "  print(\"한가입니다.\")\n",
        "\n",
        "file = \"girl.jpg\"\n",
        "if file.startswith(\".jpg\"):\n",
        "  print(\"그림 파일입니다.\")"
      ],
      "metadata": {
        "colab": {
          "base_uri": "https://localhost:8080/"
        },
        "id": "w96Uu2Mjcvvn",
        "outputId": "a7c0c610-9b44-4361-e364-c9a53a72e2a4"
      },
      "execution_count": 10,
      "outputs": [
        {
          "output_type": "stream",
          "name": "stdout",
          "text": [
            "김가입니다.\n"
          ]
        }
      ]
    },
    {
      "cell_type": "code",
      "source": [
        "height = input(\"키를 입력하세요 : \")\n",
        "if height.isdecimal():\n",
        "  print(\"키 =\", height)\n",
        "else:\n",
        "  print(\"숫자만 입력하세요.\")"
      ],
      "metadata": {
        "colab": {
          "base_uri": "https://localhost:8080/"
        },
        "id": "5KrRAdA7dElQ",
        "outputId": "650c49b4-0d17-4031-fbd0-2bdb1254946e"
      },
      "execution_count": 11,
      "outputs": [
        {
          "output_type": "stream",
          "name": "stdout",
          "text": [
            "키를 입력하세요 : 170\n",
            "키 = 170\n"
          ]
        }
      ]
    },
    {
      "cell_type": "code",
      "source": [
        "s = \"Good morning. my love KIM.\"\n",
        "print(s.lower())\n",
        "print(s.upper())\n",
        "print(s)\n",
        "\n",
        "print(s.swapcase())\n",
        "print(s.capitalize())\n",
        "print(s.title())\n"
      ],
      "metadata": {
        "colab": {
          "base_uri": "https://localhost:8080/"
        },
        "id": "MFkHQYYgdqft",
        "outputId": "a8ea238f-c733-4a4f-d784-f31686db3159"
      },
      "execution_count": 12,
      "outputs": [
        {
          "output_type": "stream",
          "name": "stdout",
          "text": [
            "good morning. my love kim.\n",
            "GOOD MORNING. MY LOVE KIM.\n",
            "Good morning. my love KIM.\n",
            "gOOD MORNING. MY LOVE kim.\n",
            "Good morning. my love kim.\n",
            "Good Morning. My Love Kim.\n"
          ]
        }
      ]
    },
    {
      "cell_type": "code",
      "source": [
        "python = input(\"파이썬의 영문 철자를 입력하시오 : \")\n",
        "if python.lower() == \"python\":\n",
        "  print(\"맞췄습니다.\")"
      ],
      "metadata": {
        "colab": {
          "base_uri": "https://localhost:8080/"
        },
        "id": "3wez-aa9eIU-",
        "outputId": "04e9ef74-33bf-4e4c-a739-8fa610de1541"
      },
      "execution_count": 13,
      "outputs": [
        {
          "output_type": "stream",
          "name": "stdout",
          "text": [
            "파이썬의 영문 철자를 입력하시오 : Python\n",
            "맞췄습니다.\n"
          ]
        }
      ]
    },
    {
      "cell_type": "code",
      "source": [
        "s = \"  angel   \"\n",
        "print(s + \"님\")\n",
        "print(s.lstrip() + \"님\")\n",
        "print(s.rstrip() + \"님\")\n",
        "print(s.strip() + \"님\")"
      ],
      "metadata": {
        "colab": {
          "base_uri": "https://localhost:8080/"
        },
        "id": "2HoNsfPIeq3b",
        "outputId": "b361bab6-261e-45a4-f528-01224f0c31d8"
      },
      "execution_count": 14,
      "outputs": [
        {
          "output_type": "stream",
          "name": "stdout",
          "text": [
            "  angel   님\n",
            "angel   님\n",
            "  angel님\n",
            "angel님\n"
          ]
        }
      ]
    },
    {
      "cell_type": "code",
      "source": [
        "s = \"짜장 짬뽕 탕슉\"\n",
        "print(s.split())\n",
        "\n",
        "s2 = \"서울->대전->대구->부산\"\n",
        "city = s2.split(\"->\")\n",
        "print(city)\n",
        "for c in city:\n",
        "  print(c, \"찍고\", end=' ')"
      ],
      "metadata": {
        "colab": {
          "base_uri": "https://localhost:8080/"
        },
        "id": "aM8a8k-We7ZX",
        "outputId": "bff7aa35-7214-49a0-97ef-f69d2acbae24"
      },
      "execution_count": 15,
      "outputs": [
        {
          "output_type": "stream",
          "name": "stdout",
          "text": [
            "['짜장', '짬뽕', '탕슉']\n",
            "['서울', '대전', '대구', '부산']\n",
            "서울 찍고 대전 찍고 대구 찍고 부산 찍고 "
          ]
        }
      ]
    },
    {
      "cell_type": "code",
      "source": [
        "traveler = \"\"\"강나루 건너서\\n밀밭 길을\\n\\n구름에 달 가듯이\\n가는 나그네\\n\n",
        "길은 외줄기\\n남도 삼백리\\n\\n술 익는 마을마다\\n타는 저녁놀\\n\n",
        "구름에 달 가듯이\\n가는 나그네\"\"\"\n",
        "poet = traveler.splitlines()\n",
        "for line in poet:\n",
        "  print(line)"
      ],
      "metadata": {
        "colab": {
          "base_uri": "https://localhost:8080/"
        },
        "id": "CNqhPU7YfROs",
        "outputId": "0734ef76-d1a7-4ded-bed5-86da43b6a9db"
      },
      "execution_count": 16,
      "outputs": [
        {
          "output_type": "stream",
          "name": "stdout",
          "text": [
            "강나루 건너서\n",
            "밀밭 길을\n",
            "\n",
            "구름에 달 가듯이\n",
            "가는 나그네\n",
            "\n",
            "길은 외줄기\n",
            "남도 삼백리\n",
            "\n",
            "술 익는 마을마다\n",
            "타는 저녁놀\n",
            "\n",
            "구름에 달 가듯이\n",
            "가는 나그네\n"
          ]
        }
      ]
    },
    {
      "cell_type": "code",
      "source": [
        "s = \"._.\"\n",
        "print(s.join(\"대한민국\"))"
      ],
      "metadata": {
        "colab": {
          "base_uri": "https://localhost:8080/"
        },
        "id": "SAeYkD1Pfxv4",
        "outputId": "871ba0fc-25af-4eaf-b7b0-8300db047a0e"
      },
      "execution_count": 17,
      "outputs": [
        {
          "output_type": "stream",
          "name": "stdout",
          "text": [
            "대._.한._.민._.국\n"
          ]
        }
      ]
    },
    {
      "cell_type": "code",
      "source": [
        "s2 = \"서울->대전->대구->부산\"\n",
        "city = s2.split(\"->\")\n",
        "print(\" 찍고 \".join(city))"
      ],
      "metadata": {
        "colab": {
          "base_uri": "https://localhost:8080/"
        },
        "id": "1KLkJcGZf4kY",
        "outputId": "daf7ba34-1637-445f-ee4c-e78be60a86f8"
      },
      "execution_count": 18,
      "outputs": [
        {
          "output_type": "stream",
          "name": "stdout",
          "text": [
            "서울 찍고 대전 찍고 대구 찍고 부산\n"
          ]
        }
      ]
    },
    {
      "cell_type": "code",
      "source": [
        "s = \"독도는 일본땅이다. 대마도도 일본땅이다.\"\n",
        "print(s)\n",
        "print(s.replace(\"일본\", \"한국\"))"
      ],
      "metadata": {
        "colab": {
          "base_uri": "https://localhost:8080/"
        },
        "id": "oY8htkmlgC3B",
        "outputId": "356a9b45-572c-4157-dd42-665b39f744a8"
      },
      "execution_count": 19,
      "outputs": [
        {
          "output_type": "stream",
          "name": "stdout",
          "text": [
            "독도는 일본땅이다. 대마도도 일본땅이다.\n",
            "독도는 한국땅이다. 대마도도 한국땅이다.\n"
          ]
        }
      ]
    },
    {
      "cell_type": "code",
      "source": [
        "message = \"안녕하세요.\"\n",
        "print(message.ljust(30))\n",
        "print(message.rjust(30))\n",
        "print(message.center(30))"
      ],
      "metadata": {
        "colab": {
          "base_uri": "https://localhost:8080/"
        },
        "id": "6tbQJ1QggWBV",
        "outputId": "2f3564d4-9f48-4dbb-9977-943e0dd98b4c"
      },
      "execution_count": 20,
      "outputs": [
        {
          "output_type": "stream",
          "name": "stdout",
          "text": [
            "안녕하세요.                        \n",
            "                        안녕하세요.\n",
            "            안녕하세요.            \n"
          ]
        }
      ]
    },
    {
      "cell_type": "code",
      "source": [
        "traveler = \"\"\"강나루 건너서\\n밀밭 길을\\n\\n구름에 달 가듯이\\n가는 나그네\\n\n",
        "길은 외줄기\\n남도 삼백리\\n\\n술 익는 마을마다\\n타는 저녁놀\\n\n",
        "구름에 달 가듯이\\n가는 나그네\"\"\"\n",
        "poet = traveler.splitlines()\n",
        "for line in poet:\n",
        "  print(line.center(30))"
      ],
      "metadata": {
        "colab": {
          "base_uri": "https://localhost:8080/"
        },
        "id": "S7PRu30Zgg7B",
        "outputId": "acd3ed44-f6f4-4c3c-f12e-636745f615b1"
      },
      "execution_count": 21,
      "outputs": [
        {
          "output_type": "stream",
          "name": "stdout",
          "text": [
            "           강나루 건너서            \n",
            "            밀밭 길을             \n",
            "                              \n",
            "          구름에 달 가듯이           \n",
            "            가는 나그네            \n",
            "                              \n",
            "            길은 외줄기            \n",
            "            남도 삼백리            \n",
            "                              \n",
            "          술 익는 마을마다           \n",
            "            타는 저녁놀            \n",
            "                              \n",
            "          구름에 달 가듯이           \n",
            "            가는 나그네            \n"
          ]
        }
      ]
    },
    {
      "cell_type": "code",
      "source": [
        "price = 500\n",
        "print(\"궁금하면 \" + str(price) + \"원!\")"
      ],
      "metadata": {
        "colab": {
          "base_uri": "https://localhost:8080/"
        },
        "id": "PDt-9Gjmg5M0",
        "outputId": "35b9cb01-6aa6-4853-975b-5645d37fc336"
      },
      "execution_count": 22,
      "outputs": [
        {
          "output_type": "stream",
          "name": "stdout",
          "text": [
            "궁금하면 500원!\n"
          ]
        }
      ]
    },
    {
      "cell_type": "code",
      "source": [
        "print(\"궁금하면 \", price, \"원!\")"
      ],
      "metadata": {
        "colab": {
          "base_uri": "https://localhost:8080/"
        },
        "id": "USu7qqsghY70",
        "outputId": "46e63269-b98c-44e1-eb94-16a6f5191bd0"
      },
      "execution_count": 23,
      "outputs": [
        {
          "output_type": "stream",
          "name": "stdout",
          "text": [
            "궁금하면  500 원!\n"
          ]
        }
      ]
    },
    {
      "cell_type": "code",
      "source": [
        "price = 500\n",
        "print(\"궁금하면 %d원! % price\")"
      ],
      "metadata": {
        "colab": {
          "base_uri": "https://localhost:8080/"
        },
        "id": "bfV3YIVhheeh",
        "outputId": "b85fdafe-4d42-4fbe-e4f5-f238e7d245bd"
      },
      "execution_count": 24,
      "outputs": [
        {
          "output_type": "stream",
          "name": "stdout",
          "text": [
            "궁금하면 %d원! % price\n"
          ]
        }
      ]
    },
    {
      "cell_type": "code",
      "source": [
        "month = 8\n",
        "day = 15\n",
        "anni = \"광복절\"\n",
        "print(\"%d월 %d일은 %s이다.\" % (month, day, anni))"
      ],
      "metadata": {
        "colab": {
          "base_uri": "https://localhost:8080/"
        },
        "id": "Qy8LiXBqhuqH",
        "outputId": "c2825771-c7df-4274-cc5a-234386461787"
      },
      "execution_count": 25,
      "outputs": [
        {
          "output_type": "stream",
          "name": "stdout",
          "text": [
            "8월 15일은 광복절이다.\n"
          ]
        }
      ]
    },
    {
      "cell_type": "code",
      "source": [
        "print(str(month) + \"월 \" + str(day) + \"일은 \" + anni + \"이다.\")"
      ],
      "metadata": {
        "colab": {
          "base_uri": "https://localhost:8080/"
        },
        "id": "h9-uC00Zh6HW",
        "outputId": "f9498132-02bd-465e-b9d9-cfba3dd93442"
      },
      "execution_count": 26,
      "outputs": [
        {
          "output_type": "stream",
          "name": "stdout",
          "text": [
            "8월 15일은 광복절이다.\n"
          ]
        }
      ]
    },
    {
      "cell_type": "code",
      "source": [
        "value = 123\n",
        "print(\"###%d###\" % value)\n",
        "print(\"###%5d###\" % value)\n",
        "print(\"###%10d###\" % value)\n",
        "print(\"###%1d###\" % value)"
      ],
      "metadata": {
        "colab": {
          "base_uri": "https://localhost:8080/"
        },
        "id": "eP1HZBJGiIag",
        "outputId": "ad6c329f-a57e-48cc-b110-976b8f0a5b0d"
      },
      "execution_count": 27,
      "outputs": [
        {
          "output_type": "stream",
          "name": "stdout",
          "text": [
            "###123###\n",
            "###  123###\n",
            "###       123###\n",
            "###123###\n"
          ]
        }
      ]
    },
    {
      "cell_type": "code",
      "source": [
        "price = [30, 13500, 2000]\n",
        "for p in price:\n",
        "  print(\"가격:%d원\" % p)\n",
        "for p in price:\n",
        "  print(\"가격:%7d원\" % p)\n"
      ],
      "metadata": {
        "colab": {
          "base_uri": "https://localhost:8080/"
        },
        "id": "qXk15UPZief-",
        "outputId": "8478cf79-51f9-4b85-aaaa-3953cacc7e57"
      },
      "execution_count": 29,
      "outputs": [
        {
          "output_type": "stream",
          "name": "stdout",
          "text": [
            "가격:30원\n",
            "가격:13500원\n",
            "가격:2000원\n",
            "가격:     30원\n",
            "가격:  13500원\n",
            "가격:   2000원\n"
          ]
        }
      ]
    },
    {
      "cell_type": "code",
      "source": [
        "price = [30, 13500, 2000]\n",
        "for p in price:\n",
        "  print(\"가격:%-7d원\" % p)"
      ],
      "metadata": {
        "colab": {
          "base_uri": "https://localhost:8080/"
        },
        "id": "fw51_x5div0r",
        "outputId": "69275cd1-bff6-49f9-ceb6-eb0e32c9f904"
      },
      "execution_count": 30,
      "outputs": [
        {
          "output_type": "stream",
          "name": "stdout",
          "text": [
            "가격:30     원\n",
            "가격:13500  원\n",
            "가격:2000   원\n"
          ]
        }
      ]
    },
    {
      "cell_type": "code",
      "source": [
        "pie = 3.14159265\n",
        "print(\"%10f\" % pie)\n",
        "print(\"%10.8f\" % pie)\n",
        "print(\"%10.5f\" % pie)\n",
        "print(\"%10.2f\" % pie)"
      ],
      "metadata": {
        "colab": {
          "base_uri": "https://localhost:8080/"
        },
        "id": "wKEw_tK6i9Zy",
        "outputId": "aef607d5-3c09-4ef5-e9f0-c362bb1a097f"
      },
      "execution_count": 31,
      "outputs": [
        {
          "output_type": "stream",
          "name": "stdout",
          "text": [
            "  3.141593\n",
            "3.14159265\n",
            "   3.14159\n",
            "      3.14\n"
          ]
        }
      ]
    },
    {
      "cell_type": "code",
      "source": [
        "name = \"한결\"\n",
        "age = 16\n",
        "height = 162.5\n",
        "print(\"이름:{}, 나이:{}, 키:{}\".format(name, age, height))"
      ],
      "metadata": {
        "colab": {
          "base_uri": "https://localhost:8080/"
        },
        "id": "B_tyode6jKDV",
        "outputId": "341b2044-66ab-4b92-9635-3a638b123534"
      },
      "execution_count": 32,
      "outputs": [
        {
          "output_type": "stream",
          "name": "stdout",
          "text": [
            "이름:한결, 나이:16, 키:162.5\n"
          ]
        }
      ]
    },
    {
      "cell_type": "code",
      "source": [
        "print(\"이름:{0}, 나이:{1}, 키:{2}\".format(name, age, height))"
      ],
      "metadata": {
        "colab": {
          "base_uri": "https://localhost:8080/"
        },
        "id": "BpEk2lx3jb9a",
        "outputId": "21ba9e6f-fa56-462d-b711-2d5ef9d7d1bf"
      },
      "execution_count": 33,
      "outputs": [
        {
          "output_type": "stream",
          "name": "stdout",
          "text": [
            "이름:한결, 나이:16, 키:162.5\n"
          ]
        }
      ]
    },
    {
      "cell_type": "code",
      "source": [
        "print(\"이름:{name}, 나이:{age}, 키:{height}\".format(name = \"한결\", age = 20, height = 160.9))"
      ],
      "metadata": {
        "colab": {
          "base_uri": "https://localhost:8080/"
        },
        "id": "jLakaQeojjkI",
        "outputId": "80fcff72-bfa0-407e-a395-0bcb632190d9"
      },
      "execution_count": 34,
      "outputs": [
        {
          "output_type": "stream",
          "name": "stdout",
          "text": [
            "이름:한결, 나이:20, 키:160.9\n"
          ]
        }
      ]
    },
    {
      "cell_type": "code",
      "source": [
        "boy = {\"name\":\"한결\", \"age\":16, \"height\":162.5}\n",
        "print(\"이름:{0[name]}, 나이:{0[age]}, 키:{0[height]}\".format(boy))"
      ],
      "metadata": {
        "colab": {
          "base_uri": "https://localhost:8080/"
        },
        "id": "vnDG12HZjzBP",
        "outputId": "309f5b26-5862-41c6-aedb-1dffcdb7b576"
      },
      "execution_count": 37,
      "outputs": [
        {
          "output_type": "stream",
          "name": "stdout",
          "text": [
            "이름:한결, 나이:16, 키:162.5\n"
          ]
        }
      ]
    },
    {
      "cell_type": "code",
      "source": [
        "name = \"한결\"\n",
        "age = 16\n",
        "height = 162.5\n",
        "print(\"이름:{0:s}, 나이:{1:d}, 키:{2:f}\".format(name, age, height))"
      ],
      "metadata": {
        "colab": {
          "base_uri": "https://localhost:8080/"
        },
        "id": "PLxHIke-j3Ba",
        "outputId": "ad63351a-4596-471d-93dc-5cbf358ea3e8"
      },
      "execution_count": 38,
      "outputs": [
        {
          "output_type": "stream",
          "name": "stdout",
          "text": [
            "이름:한결, 나이:16, 키:162.500000\n"
          ]
        }
      ]
    },
    {
      "cell_type": "code",
      "source": [
        "name = \"한결\"\n",
        "age = 16\n",
        "height = 162.5\n",
        "print(\"이름:{0:10s}, 나이:{1:5d}, 키:{2:8.2f}\".format(name, age, height))"
      ],
      "metadata": {
        "colab": {
          "base_uri": "https://localhost:8080/"
        },
        "id": "xYiCnnEJkN1H",
        "outputId": "46b355e8-6fd5-4666-c5cc-605033c52cad"
      },
      "execution_count": 39,
      "outputs": [
        {
          "output_type": "stream",
          "name": "stdout",
          "text": [
            "이름:한결        , 나이:   16, 키:  162.50\n"
          ]
        }
      ]
    },
    {
      "cell_type": "code",
      "source": [
        "name = \"한결\"\n",
        "age = 16\n",
        "height = 162.5\n",
        "print(\"이름:{0:^10s}, 나이:{1:>5d}, 키:{2:<8.2f}\".format(name, age, height))"
      ],
      "metadata": {
        "colab": {
          "base_uri": "https://localhost:8080/"
        },
        "id": "2xK75b5nkYy4",
        "outputId": "c66694bc-0a50-40b6-daa9-b1e478f93108"
      },
      "execution_count": 40,
      "outputs": [
        {
          "output_type": "stream",
          "name": "stdout",
          "text": [
            "이름:    한결    , 나이:   16, 키:162.50  \n"
          ]
        }
      ]
    },
    {
      "cell_type": "code",
      "source": [
        "name = \"한결\"\n",
        "age = 16\n",
        "height = 162.5\n",
        "print(\"이름:{0:$^10s}, 나이:{1:0>5d}, 키:{2:!<8.2f}\".format(name, age, height))"
      ],
      "metadata": {
        "colab": {
          "base_uri": "https://localhost:8080/"
        },
        "id": "abT59uoWkzx2",
        "outputId": "353322c7-1f1a-4c39-c002-208f389265de"
      },
      "execution_count": 41,
      "outputs": [
        {
          "output_type": "stream",
          "name": "stdout",
          "text": [
            "이름:$$$$한결$$$$, 나이:00016, 키:162.50!!\n"
          ]
        }
      ]
    },
    {
      "cell_type": "code",
      "source": [
        "s = \"universe\"\n",
        "for i in s:\n",
        "  print(i)"
      ],
      "metadata": {
        "colab": {
          "base_uri": "https://localhost:8080/"
        },
        "id": "jrPqL0_WlEk2",
        "outputId": "c0cf783d-d3dd-4128-ee35-e7d80964f7a4"
      },
      "execution_count": 42,
      "outputs": [
        {
          "output_type": "stream",
          "name": "stdout",
          "text": [
            "u\n",
            "n\n",
            "i\n",
            "v\n",
            "e\n",
            "r\n",
            "s\n",
            "e\n"
          ]
        }
      ]
    },
    {
      "cell_type": "code",
      "source": [
        "domain = \"korea.kr\"\n",
        "if domain.endswith(\".kr\"):\n",
        "  print(\"한국 도메인입니다.\")"
      ],
      "metadata": {
        "colab": {
          "base_uri": "https://localhost:8080/"
        },
        "id": "ghoMQWsOlmQQ",
        "outputId": "5c3ecad1-5bcf-4fba-caee-a3bf8f62f9ba"
      },
      "execution_count": 53,
      "outputs": [
        {
          "output_type": "stream",
          "name": "stdout",
          "text": [
            "한국 도메인입니다.\n"
          ]
        }
      ]
    },
    {
      "cell_type": "code",
      "source": [
        "sosi = \"태연, 서연, 수영\"\n",
        "singer = sosi.split(\", \")\n",
        "for s in singer:\n",
        "  print(s, \"사랑해\")"
      ],
      "metadata": {
        "colab": {
          "base_uri": "https://localhost:8080/"
        },
        "id": "Pvw19Hpml9oI",
        "outputId": "58152a66-5d71-4d60-9a11-6f6bec332837"
      },
      "execution_count": 54,
      "outputs": [
        {
          "output_type": "stream",
          "name": "stdout",
          "text": [
            "태연 사랑해\n",
            "서연 사랑해\n",
            "수영 사랑해\n"
          ]
        }
      ]
    },
    {
      "cell_type": "code",
      "source": [
        "coffee = \"아침에 커피로 시작하고 밥 먹고 커피 마시고 자기 전에도 커피를 마신다.\"\n",
        "print(coffee.replace(\"커피\",\"우유\"))"
      ],
      "metadata": {
        "colab": {
          "base_uri": "https://localhost:8080/"
        },
        "id": "Ebgc91ZumbeG",
        "outputId": "08b60325-9538-4af4-f746-4396b767f918"
      },
      "execution_count": 48,
      "outputs": [
        {
          "output_type": "stream",
          "name": "stdout",
          "text": [
            "아침에 우유로 시작하고 밥 먹고 우유 마시고 자기 전에도 우유를 마신다.\n"
          ]
        }
      ]
    },
    {
      "cell_type": "code",
      "source": [
        "password = \"901231-1914983\"\n",
        "print(password[0:2] + \"년생\", end=' ')\n",
        "if password[7]=='1':\n",
        "  print(\" 남자\")\n",
        "elif password[7]=='0':\n",
        "  print(\" 여자\")"
      ],
      "metadata": {
        "colab": {
          "base_uri": "https://localhost:8080/"
        },
        "id": "xmNdem_EmxzM",
        "outputId": "d6eae7be-c971-4b35-cc03-fc220ad0a69b"
      },
      "execution_count": 49,
      "outputs": [
        {
          "output_type": "stream",
          "name": "stdout",
          "text": [
            "90년생  남자\n"
          ]
        }
      ]
    },
    {
      "cell_type": "code",
      "source": [
        "sum = 356\n",
        "avg = 89.2785\n",
        "print(\"총점: \" + str(sum) + \", \" + \"평균: \" + str(round(avg,2)))"
      ],
      "metadata": {
        "colab": {
          "base_uri": "https://localhost:8080/"
        },
        "id": "P7BNtY2Pn15L",
        "outputId": "0952f3fc-cea3-4a3d-eaec-d3d5dc26667f"
      },
      "execution_count": 52,
      "outputs": [
        {
          "output_type": "stream",
          "name": "stdout",
          "text": [
            "총점: 356, 평균: 89.28\n"
          ]
        }
      ]
    },
    {
      "cell_type": "code",
      "source": [
        "score = [88, 95, 70, 100, 99]\n",
        "name = [\"최상미\", \"이한승\", \"김기남\"]"
      ],
      "metadata": {
        "id": "uWte9L0Koqs-"
      },
      "execution_count": 55,
      "outputs": []
    },
    {
      "cell_type": "code",
      "source": [
        "namescore = [\"최상미\", 88, \"이한승\", 95]"
      ],
      "metadata": {
        "id": "Ar4aS259tfXN"
      },
      "execution_count": 56,
      "outputs": []
    },
    {
      "cell_type": "code",
      "source": [
        "score = [88, 95, 70, 100, 99]\n",
        "sum = 0\n",
        "for s in score:\n",
        "  sum += s\n",
        "print(\"총점 : \", sum)\n",
        "print(\"평균 : \", sum / len(score))"
      ],
      "metadata": {
        "colab": {
          "base_uri": "https://localhost:8080/"
        },
        "id": "aBThNOwltnwX",
        "outputId": "534e8e65-eaeb-402a-dd71-cb09f1867924"
      },
      "execution_count": 57,
      "outputs": [
        {
          "output_type": "stream",
          "name": "stdout",
          "text": [
            "총점 :  452\n",
            "평균 :  90.4\n"
          ]
        }
      ]
    },
    {
      "cell_type": "code",
      "source": [
        "print(list(\"korea\"))"
      ],
      "metadata": {
        "colab": {
          "base_uri": "https://localhost:8080/"
        },
        "id": "0gytd5_XtyV_",
        "outputId": "1a32be06-3ead-4e56-97de-b4319ba1b706"
      },
      "execution_count": 58,
      "outputs": [
        {
          "output_type": "stream",
          "name": "stdout",
          "text": [
            "['k', 'o', 'r', 'e', 'a']\n"
          ]
        }
      ]
    },
    {
      "cell_type": "code",
      "source": [
        "score = [88, 95, 70, 100, 99]\n",
        "print(score[0])\n",
        "print(score[2])\n",
        "print(score[-1])"
      ],
      "metadata": {
        "colab": {
          "base_uri": "https://localhost:8080/"
        },
        "id": "FnuVd12ouLkm",
        "outputId": "4276d834-7819-4239-91c7-930f5f0a2bde"
      },
      "execution_count": 59,
      "outputs": [
        {
          "output_type": "stream",
          "name": "stdout",
          "text": [
            "88\n",
            "70\n",
            "99\n"
          ]
        }
      ]
    },
    {
      "cell_type": "code",
      "source": [
        "nums = [0,1,2,3,4,5,6,7,8,9]\n",
        "print(nums[2:5])\n",
        "print(nums[:4])\n",
        "print(nums[6:])\n",
        "print(nums[1:7:2])"
      ],
      "metadata": {
        "colab": {
          "base_uri": "https://localhost:8080/"
        },
        "id": "LDCRqeUAug8s",
        "outputId": "d04d5e7a-bcd6-48d7-8f2f-3619eb729b3e"
      },
      "execution_count": 60,
      "outputs": [
        {
          "output_type": "stream",
          "name": "stdout",
          "text": [
            "[2, 3, 4]\n",
            "[0, 1, 2, 3]\n",
            "[6, 7, 8, 9]\n",
            "[1, 3, 5]\n"
          ]
        }
      ]
    },
    {
      "cell_type": "code",
      "source": [
        "score = [88, 95, 70, 100, 99]\n",
        "print(score[2])\n",
        "score[2] = 55\n",
        "print(score[2])"
      ],
      "metadata": {
        "colab": {
          "base_uri": "https://localhost:8080/"
        },
        "id": "og5t7G-puyTs",
        "outputId": "62553876-7365-43d4-d258-467d9ba358ff"
      },
      "execution_count": 61,
      "outputs": [
        {
          "output_type": "stream",
          "name": "stdout",
          "text": [
            "70\n",
            "55\n"
          ]
        }
      ]
    },
    {
      "cell_type": "code",
      "source": [
        "nums = [0,1,2,3,4,5,6,7,8,9]\n",
        "nums[2:5] = [20, 30, 40]\n",
        "print(nums)\n",
        "nums[6:8] = [90, 91, 92, 93, 94]\n",
        "print(nums)\n"
      ],
      "metadata": {
        "colab": {
          "base_uri": "https://localhost:8080/"
        },
        "id": "ZsRJuDxWvA0w",
        "outputId": "f0745790-2d11-417e-90b6-271e5892965b"
      },
      "execution_count": 62,
      "outputs": [
        {
          "output_type": "stream",
          "name": "stdout",
          "text": [
            "[0, 1, 20, 30, 40, 5, 6, 7, 8, 9]\n",
            "[0, 1, 20, 30, 40, 5, 90, 91, 92, 93, 94, 8, 9]\n"
          ]
        }
      ]
    },
    {
      "cell_type": "code",
      "source": [
        "nums = [0,1,2,3,4,5,6,7,8,9]\n",
        "nums[2:5] = []\n",
        "del nums[4]\n",
        "print(nums)"
      ],
      "metadata": {
        "colab": {
          "base_uri": "https://localhost:8080/"
        },
        "id": "ccPzhhI6vKKl",
        "outputId": "f358a8dd-7ab6-4e1f-aeb0-d132b8633bd1"
      },
      "execution_count": 63,
      "outputs": [
        {
          "output_type": "stream",
          "name": "stdout",
          "text": [
            "[0, 1, 5, 6, 8, 9]\n"
          ]
        }
      ]
    },
    {
      "cell_type": "code",
      "source": [
        "list1 = [1,2,3,4,5]\n",
        "list2 = [10,11]\n",
        "listadd = list1 + list2\n",
        "print(listadd)\n",
        "listmulti = list2 * 3\n",
        "print(listmulti)"
      ],
      "metadata": {
        "colab": {
          "base_uri": "https://localhost:8080/"
        },
        "id": "R6gQzdGbvZGJ",
        "outputId": "b0b8cff9-ab84-4ada-bdf2-beb83e2cf321"
      },
      "execution_count": 64,
      "outputs": [
        {
          "output_type": "stream",
          "name": "stdout",
          "text": [
            "[1, 2, 3, 4, 5, 10, 11]\n",
            "[10, 11, 10, 11, 10, 11]\n"
          ]
        }
      ]
    },
    {
      "cell_type": "code",
      "source": [
        "lol = [[1,2,3], [4,5], [6,7,8,9]]\n",
        "print(lol[0])\n",
        "print(lol[2][1])\n",
        "\n",
        "for sub in lol:\n",
        "  for item in sub:\n",
        "    print(item, end=' ')\n",
        "  print()"
      ],
      "metadata": {
        "colab": {
          "base_uri": "https://localhost:8080/"
        },
        "id": "aENVSo3Zvpzm",
        "outputId": "a80841af-b548-468f-866b-8bebb28cec84"
      },
      "execution_count": 65,
      "outputs": [
        {
          "output_type": "stream",
          "name": "stdout",
          "text": [
            "[1, 2, 3]\n",
            "7\n",
            "1 2 3 \n",
            "4 5 \n",
            "6 7 8 9 \n"
          ]
        }
      ]
    },
    {
      "cell_type": "code",
      "source": [
        "score = [\n",
        "    [88, 76, 92, 98],\n",
        "    [65, 70, 58, 82],\n",
        "    [82, 80, 78, 88]\n",
        "]\n",
        "\n",
        "total = 0\n",
        "totalsub = 0\n",
        "for student in score:\n",
        "  sum = 0\n",
        "  for subject in student:\n",
        "    sum += subject\n",
        "  subjects = len(student)\n",
        "  print(\"총점 %d, 평균 %.2f\" % (sum, sum / subjects))\n",
        "  total += sum\n",
        "  totalsub += subjects\n",
        "print(\"전체평균 %.2f\" % (total / totalsub))"
      ],
      "metadata": {
        "colab": {
          "base_uri": "https://localhost:8080/"
        },
        "id": "PLlDp-ivv4jM",
        "outputId": "032064f0-7b2b-4430-d87a-a2c6a5169f7c"
      },
      "execution_count": 67,
      "outputs": [
        {
          "output_type": "stream",
          "name": "stdout",
          "text": [
            "총점 354, 평균 88.50\n",
            "총점 275, 평균 68.75\n",
            "총점 328, 평균 82.00\n",
            "전체평균 79.75\n"
          ]
        }
      ]
    },
    {
      "cell_type": "code",
      "source": [
        "[n for n in range(1, 11)]"
      ],
      "metadata": {
        "colab": {
          "base_uri": "https://localhost:8080/"
        },
        "id": "jNrLuopOwljf",
        "outputId": "c403eab6-c0c1-4eae-99b8-71df4e306001"
      },
      "execution_count": 68,
      "outputs": [
        {
          "output_type": "execute_result",
          "data": {
            "text/plain": [
              "[1, 2, 3, 4, 5, 6, 7, 8, 9, 10]"
            ]
          },
          "metadata": {},
          "execution_count": 68
        }
      ]
    },
    {
      "cell_type": "code",
      "source": [
        "nums = [n * 2 for n in range(1, 11)]\n",
        "for i in nums:\n",
        "  print(i, end=', ')"
      ],
      "metadata": {
        "colab": {
          "base_uri": "https://localhost:8080/"
        },
        "id": "KGF_i8Fzw6Pn",
        "outputId": "04adcf7b-4502-416b-8405-fdc000e7d8fa"
      },
      "execution_count": 69,
      "outputs": [
        {
          "output_type": "stream",
          "name": "stdout",
          "text": [
            "2, 4, 6, 8, 10, 12, 14, 16, 18, 20, "
          ]
        }
      ]
    },
    {
      "cell_type": "code",
      "source": [
        "nums = []\n",
        "for n in range(1, 11):\n",
        "  nums.append(n * 2)"
      ],
      "metadata": {
        "id": "b7r9rvA0xCPb"
      },
      "execution_count": 70,
      "outputs": []
    },
    {
      "cell_type": "code",
      "source": [
        "[n for n in range(1, 11) if n % 3 == 0] # [3,6,9]\n",
        "[n*n for n in range(1, 11) if n % 3 == 0] # [9, 36, 81]"
      ],
      "metadata": {
        "colab": {
          "base_uri": "https://localhost:8080/"
        },
        "id": "GDfnbvWXxPi2",
        "outputId": "5ec4be24-aeec-4bb2-9815-0ade17c3271d"
      },
      "execution_count": 71,
      "outputs": [
        {
          "output_type": "execute_result",
          "data": {
            "text/plain": [
              "[9, 36, 81]"
            ]
          },
          "metadata": {},
          "execution_count": 71
        }
      ]
    },
    {
      "cell_type": "code",
      "source": [
        "nums = [1,2,3,4]\n",
        "nums.append(5)\n",
        "nums.insert(2, 99)\n",
        "print(nums)"
      ],
      "metadata": {
        "colab": {
          "base_uri": "https://localhost:8080/"
        },
        "id": "Eh8ykbaSxchk",
        "outputId": "160838d2-4fc8-4a21-f971-f751a1e1b5b6"
      },
      "execution_count": 72,
      "outputs": [
        {
          "output_type": "stream",
          "name": "stdout",
          "text": [
            "[1, 2, 99, 3, 4, 5]\n"
          ]
        }
      ]
    },
    {
      "cell_type": "code",
      "source": [
        "nums = [1,2,3,4]\n",
        "nums[2:2] = [90, 91, 92]\n",
        "print(nums)\n",
        "\n",
        "nums = [1,2,3,4]\n",
        "nums[2] = [90, 91, 92]\n",
        "print(nums)"
      ],
      "metadata": {
        "colab": {
          "base_uri": "https://localhost:8080/"
        },
        "id": "Rxtyq0nuxnyY",
        "outputId": "f815589e-052c-4a6e-8256-82d137015c0f"
      },
      "execution_count": 73,
      "outputs": [
        {
          "output_type": "stream",
          "name": "stdout",
          "text": [
            "[1, 2, 90, 91, 92, 3, 4]\n",
            "[1, 2, [90, 91, 92], 4]\n"
          ]
        }
      ]
    },
    {
      "cell_type": "code",
      "source": [
        "list1 = [1,2,3,4,5]\n",
        "list2 = [10,11]\n",
        "list1.extend(list2)\n",
        "print(list1)"
      ],
      "metadata": {
        "colab": {
          "base_uri": "https://localhost:8080/"
        },
        "id": "44zQEdVwxzmp",
        "outputId": "3232ccbf-7cb8-4d6f-fa5e-1580a538d2b6"
      },
      "execution_count": 74,
      "outputs": [
        {
          "output_type": "stream",
          "name": "stdout",
          "text": [
            "[1, 2, 3, 4, 5, 10, 11]\n"
          ]
        }
      ]
    },
    {
      "cell_type": "code",
      "source": [
        "list3 = list1 + list2\n",
        "list1.extend(list2)"
      ],
      "metadata": {
        "id": "WAm-ooDxyItn"
      },
      "execution_count": 75,
      "outputs": []
    },
    {
      "cell_type": "code",
      "source": [
        "score = [88, 95, 70, 100, 99, 80, 78, 50]\n",
        "score.remove(100)\n",
        "print(score)\n",
        "del(score[2])\n",
        "print(score)\n",
        "score[1:4] = []\n",
        "print(score)"
      ],
      "metadata": {
        "colab": {
          "base_uri": "https://localhost:8080/"
        },
        "id": "5PW3cLw-yReh",
        "outputId": "0672fcf5-5cd1-4d50-c10d-11ae9e58d9e1"
      },
      "execution_count": 76,
      "outputs": [
        {
          "output_type": "stream",
          "name": "stdout",
          "text": [
            "[88, 95, 70, 99, 80, 78, 50]\n",
            "[88, 95, 99, 80, 78, 50]\n",
            "[88, 78, 50]\n"
          ]
        }
      ]
    },
    {
      "cell_type": "code",
      "source": [
        "score = [88, 95, 70, 100, 99]\n",
        "print(score.pop())\n",
        "print(score.pop())\n",
        "print(score.pop(1))\n",
        "print(score)"
      ],
      "metadata": {
        "colab": {
          "base_uri": "https://localhost:8080/"
        },
        "id": "6kNQSBx0ygwj",
        "outputId": "0907d32c-a030-4644-dc1f-5d7a04a9a23f"
      },
      "execution_count": 77,
      "outputs": [
        {
          "output_type": "stream",
          "name": "stdout",
          "text": [
            "99\n",
            "100\n",
            "95\n",
            "[88, 70]\n"
          ]
        }
      ]
    },
    {
      "cell_type": "code",
      "source": [
        "score = [88, 95, 70, 100, 99, 80, 78, 50]\n",
        "perfect = score.index(100)\n",
        "print(\"만점 받은 학생은 \" + str(perfect) + \"번입니다.\")\n",
        "pernum = score.count(100)\n",
        "print(\"만점자 수는 \" + str(pernum) + \"명입니다.\")"
      ],
      "metadata": {
        "colab": {
          "base_uri": "https://localhost:8080/"
        },
        "id": "bBfq6Cxmy_Pw",
        "outputId": "59de62a5-f365-4593-fc77-2f7e32d784b4"
      },
      "execution_count": 78,
      "outputs": [
        {
          "output_type": "stream",
          "name": "stdout",
          "text": [
            "만점 받은 학생은 3번입니다.\n",
            "만점자 수는 1명입니다.\n"
          ]
        }
      ]
    },
    {
      "cell_type": "code",
      "source": [
        "score = [88, 95, 70, 100, 99, 80, 78, 50]\n",
        "print(\"학생 수는 %d명입니다.\" % len(score))\n",
        "print(\"최고 점수는 %d점입니다.\" % max(score))\n",
        "print(\"최저 점수는 %d점입니다.\" % min(score))"
      ],
      "metadata": {
        "colab": {
          "base_uri": "https://localhost:8080/"
        },
        "id": "uGF-n5zVzlCp",
        "outputId": "eeac2d9a-ad13-4bbd-f306-fb97c3fb84fe"
      },
      "execution_count": 79,
      "outputs": [
        {
          "output_type": "stream",
          "name": "stdout",
          "text": [
            "학생 수는 8명입니다.\n",
            "최고 점수는 100점입니다.\n",
            "최저 점수는 50점입니다.\n"
          ]
        }
      ]
    },
    {
      "cell_type": "code",
      "source": [
        "ans = input(\"결제 하시겠습니까? \")\n",
        "if ans in ['yes', 'y', 'ok', '예', '당근']:\n",
        "  print(\"구입해 주셔서 감사합니다.\")\n",
        "else:\n",
        "  print(\"안녕히 가세요.\")"
      ],
      "metadata": {
        "colab": {
          "base_uri": "https://localhost:8080/"
        },
        "id": "4O273JOkz75V",
        "outputId": "1a5bd278-38b2-4e77-cd48-320eb61d6177"
      },
      "execution_count": 80,
      "outputs": [
        {
          "output_type": "stream",
          "name": "stdout",
          "text": [
            "결제 하시겠습니까? y\n",
            "구입해 주셔서 감사합니다.\n"
          ]
        }
      ]
    },
    {
      "cell_type": "code",
      "source": [
        "score = [88, 95, 70, 100, 99]\n",
        "score.sort()\n",
        "print(score)\n",
        "score.reverse()\n",
        "print(score)"
      ],
      "metadata": {
        "colab": {
          "base_uri": "https://localhost:8080/"
        },
        "id": "ojuoqx3N0JOa",
        "outputId": "f7985f0f-d5d0-4d12-c75f-f35b034a4279"
      },
      "execution_count": 81,
      "outputs": [
        {
          "output_type": "stream",
          "name": "stdout",
          "text": [
            "[70, 88, 95, 99, 100]\n",
            "[100, 99, 95, 88, 70]\n"
          ]
        }
      ]
    },
    {
      "cell_type": "code",
      "source": [
        "country = [\"Korea\", \"japan\", \"CHINA\", \"america\"]\n",
        "country.sort()\n",
        "print(country)\n",
        "country.sort(key = str.lower)\n",
        "print(country)"
      ],
      "metadata": {
        "colab": {
          "base_uri": "https://localhost:8080/"
        },
        "id": "KEVxF7rF0aQi",
        "outputId": "ed801ba1-1006-4914-c6dc-15b2b1aa3344"
      },
      "execution_count": 82,
      "outputs": [
        {
          "output_type": "stream",
          "name": "stdout",
          "text": [
            "['CHINA', 'Korea', 'america', 'japan']\n",
            "['america', 'CHINA', 'japan', 'Korea']\n"
          ]
        }
      ]
    },
    {
      "cell_type": "code",
      "source": [
        "score = [88, 95, 70, 100, 99]\n",
        "score2 = sorted(score)\n",
        "print(score)\n",
        "print(score2)"
      ],
      "metadata": {
        "colab": {
          "base_uri": "https://localhost:8080/"
        },
        "id": "hlQX6Ph00vrf",
        "outputId": "7df3dc2b-b214-4c2b-a29f-9b0909bbce6f"
      },
      "execution_count": 83,
      "outputs": [
        {
          "output_type": "stream",
          "name": "stdout",
          "text": [
            "[88, 95, 70, 100, 99]\n",
            "[70, 88, 95, 99, 100]\n"
          ]
        }
      ]
    },
    {
      "cell_type": "code",
      "source": [
        "score = (88, 95, 70, 100, 99)\n",
        "sum = 0\n",
        "for s in score:\n",
        "  sum += s\n",
        "print(\"총점 : \", sum)\n",
        "print(\"평균 : \", sum / len(score))"
      ],
      "metadata": {
        "colab": {
          "base_uri": "https://localhost:8080/"
        },
        "id": "7nkx-nHm05jS",
        "outputId": "677cba67-7fec-4e10-d5fc-45eb3d49b419"
      },
      "execution_count": 84,
      "outputs": [
        {
          "output_type": "stream",
          "name": "stdout",
          "text": [
            "총점 :  452\n",
            "평균 :  90.4\n"
          ]
        }
      ]
    },
    {
      "cell_type": "code",
      "source": [
        "tu = 2,\n",
        "value = 2\n",
        "print(tu)\n",
        "print(value)"
      ],
      "metadata": {
        "colab": {
          "base_uri": "https://localhost:8080/"
        },
        "id": "OgjqXWeS1Z7R",
        "outputId": "851f82e1-a28f-4430-a592-dfb2ff749963"
      },
      "execution_count": 85,
      "outputs": [
        {
          "output_type": "stream",
          "name": "stdout",
          "text": [
            "(2,)\n",
            "2\n"
          ]
        }
      ]
    },
    {
      "cell_type": "code",
      "source": [
        "tu = 1,2,3,4,5\n",
        "print(tu[3])\n",
        "print(tu[1:4])\n",
        "print(tu + (6,7))\n",
        "print(tu * 2)\n",
        "tu[1] = 100\n",
        "del tu[1]"
      ],
      "metadata": {
        "colab": {
          "base_uri": "https://localhost:8080/",
          "height": 309
        },
        "id": "aXZtxmeJ1svu",
        "outputId": "f0a62406-0e3a-4200-817c-006077b23f2d"
      },
      "execution_count": 86,
      "outputs": [
        {
          "output_type": "stream",
          "name": "stdout",
          "text": [
            "4\n",
            "(2, 3, 4)\n",
            "(1, 2, 3, 4, 5, 6, 7)\n",
            "(1, 2, 3, 4, 5, 1, 2, 3, 4, 5)\n"
          ]
        },
        {
          "output_type": "error",
          "ename": "TypeError",
          "evalue": "ignored",
          "traceback": [
            "\u001b[0;31m---------------------------------------------------------------------------\u001b[0m",
            "\u001b[0;31mTypeError\u001b[0m                                 Traceback (most recent call last)",
            "\u001b[0;32m<ipython-input-86-4f4f3cc7ad80>\u001b[0m in \u001b[0;36m<cell line: 6>\u001b[0;34m()\u001b[0m\n\u001b[1;32m      4\u001b[0m \u001b[0mprint\u001b[0m\u001b[0;34m(\u001b[0m\u001b[0mtu\u001b[0m \u001b[0;34m+\u001b[0m \u001b[0;34m(\u001b[0m\u001b[0;36m6\u001b[0m\u001b[0;34m,\u001b[0m\u001b[0;36m7\u001b[0m\u001b[0;34m)\u001b[0m\u001b[0;34m)\u001b[0m\u001b[0;34m\u001b[0m\u001b[0;34m\u001b[0m\u001b[0m\n\u001b[1;32m      5\u001b[0m \u001b[0mprint\u001b[0m\u001b[0;34m(\u001b[0m\u001b[0mtu\u001b[0m \u001b[0;34m*\u001b[0m \u001b[0;36m2\u001b[0m\u001b[0;34m)\u001b[0m\u001b[0;34m\u001b[0m\u001b[0;34m\u001b[0m\u001b[0m\n\u001b[0;32m----> 6\u001b[0;31m \u001b[0mtu\u001b[0m\u001b[0;34m[\u001b[0m\u001b[0;36m1\u001b[0m\u001b[0;34m]\u001b[0m \u001b[0;34m=\u001b[0m \u001b[0;36m100\u001b[0m\u001b[0;34m\u001b[0m\u001b[0;34m\u001b[0m\u001b[0m\n\u001b[0m\u001b[1;32m      7\u001b[0m \u001b[0;32mdel\u001b[0m \u001b[0mtu\u001b[0m\u001b[0;34m[\u001b[0m\u001b[0;36m1\u001b[0m\u001b[0;34m]\u001b[0m\u001b[0;34m\u001b[0m\u001b[0;34m\u001b[0m\u001b[0m\n",
            "\u001b[0;31mTypeError\u001b[0m: 'tuple' object does not support item assignment"
          ]
        }
      ]
    },
    {
      "cell_type": "code",
      "source": [
        "tu = \"이순신\", \"김유신\", \"강감찬\"\n",
        "lee, kim, kang = tu\n",
        "print(lee)\n",
        "print(kim)\n",
        "print(kang)"
      ],
      "metadata": {
        "colab": {
          "base_uri": "https://localhost:8080/"
        },
        "id": "JMLW2Kkh2LLf",
        "outputId": "b5c89302-4ee8-49ed-d753-f6f2e92fa723"
      },
      "execution_count": 87,
      "outputs": [
        {
          "output_type": "stream",
          "name": "stdout",
          "text": [
            "이순신\n",
            "김유신\n",
            "강감찬\n"
          ]
        }
      ]
    },
    {
      "cell_type": "code",
      "source": [
        "a, b = 12, 34\n",
        "print(a,b)\n",
        "a, b = b, a\n",
        "print(a, b)"
      ],
      "metadata": {
        "colab": {
          "base_uri": "https://localhost:8080/"
        },
        "id": "n72Y06nK2hJb",
        "outputId": "36ee8605-c3d7-4273-cf8f-d55c172e91f0"
      },
      "execution_count": 88,
      "outputs": [
        {
          "output_type": "stream",
          "name": "stdout",
          "text": [
            "12 34\n",
            "34 12\n"
          ]
        }
      ]
    },
    {
      "cell_type": "code",
      "source": [
        "import time\n",
        "\n",
        "def gettime():\n",
        "  now = time.localtime()\n",
        "  return now.tm_hour, now.tm_min\n",
        "\n",
        "result =gettime()\n",
        "print(\"지금은 %d시 %d분입니다\" % (result[0], result[1]))"
      ],
      "metadata": {
        "colab": {
          "base_uri": "https://localhost:8080/"
        },
        "id": "g3CB93yz2odq",
        "outputId": "d44f1cbc-2439-43c3-cd00-97ffa1284b3c"
      },
      "execution_count": 89,
      "outputs": [
        {
          "output_type": "stream",
          "name": "stdout",
          "text": [
            "지금은 2시 55분입니다\n"
          ]
        }
      ]
    },
    {
      "cell_type": "code",
      "source": [
        "d, m = divmod(7, 3)\n",
        "print(\"몫\", d)\n",
        "print(\"나머지\", m)"
      ],
      "metadata": {
        "colab": {
          "base_uri": "https://localhost:8080/"
        },
        "id": "Uywzcogw2-SM",
        "outputId": "e7605a30-12cd-4725-8342-e6cc28812515"
      },
      "execution_count": 90,
      "outputs": [
        {
          "output_type": "stream",
          "name": "stdout",
          "text": [
            "몫 2\n",
            "나머지 1\n"
          ]
        }
      ]
    },
    {
      "cell_type": "code",
      "source": [
        "score = [88, 95, 78, 100, 99]\n",
        "tu = tuple(score)\n",
        "#tu[0] = 100\n",
        "print(tu)\n",
        "li = list(tu)\n",
        "li[0] = 100\n",
        "print(li)"
      ],
      "metadata": {
        "colab": {
          "base_uri": "https://localhost:8080/"
        },
        "id": "pfWecEZC3sE5",
        "outputId": "2d9342de-5895-465e-8e1b-4bb839156858"
      },
      "execution_count": 91,
      "outputs": [
        {
          "output_type": "stream",
          "name": "stdout",
          "text": [
            "(88, 95, 78, 100, 99)\n",
            "[100, 95, 78, 100, 99]\n"
          ]
        }
      ]
    },
    {
      "cell_type": "code",
      "source": [
        "#1번 문제\n",
        "score = [10,20,30,50,60,70,90,100]\n",
        "avg = 0\n",
        "sum = 0\n",
        "for i in range(len(score)):\n",
        "  sum += (score[i])\n",
        "  avg = sum / len(score)\n",
        "print(sum)\n",
        "print(avg)"
      ],
      "metadata": {
        "colab": {
          "base_uri": "https://localhost:8080/"
        },
        "id": "bW8X4jv-4ILj",
        "outputId": "89c2dfc3-d5df-4d30-b02a-0c4537b80b39"
      },
      "execution_count": 98,
      "outputs": [
        {
          "output_type": "stream",
          "name": "stdout",
          "text": [
            "430\n",
            "53.75\n"
          ]
        }
      ]
    },
    {
      "cell_type": "code",
      "source": [
        "#2번\n",
        "score = [88, 95, 70, 100, 99]\n",
        "score[2] = 0\n",
        "print(score)"
      ],
      "metadata": {
        "colab": {
          "base_uri": "https://localhost:8080/"
        },
        "id": "q-BKo3tu8TYa",
        "outputId": "6098badf-22c5-44d7-c3b8-146afa980bcf"
      },
      "execution_count": 93,
      "outputs": [
        {
          "output_type": "stream",
          "name": "stdout",
          "text": [
            "[88, 95, 0, 100, 99]\n"
          ]
        }
      ]
    },
    {
      "cell_type": "code",
      "source": [
        "#3번\n",
        "for i in range(1, 100):\n",
        "  if i%2==0:\n",
        "    print(i, end=' ')"
      ],
      "metadata": {
        "colab": {
          "base_uri": "https://localhost:8080/"
        },
        "id": "SZutfrvl8sIw",
        "outputId": "229a1240-5a7f-42fa-98a9-152312324cb1"
      },
      "execution_count": 99,
      "outputs": [
        {
          "output_type": "stream",
          "name": "stdout",
          "text": [
            "2 4 6 8 10 12 14 16 18 20 22 24 26 28 30 32 34 36 38 40 42 44 46 48 50 52 54 56 58 60 62 64 66 68 70 72 74 76 78 80 82 84 86 88 90 92 94 96 98 "
          ]
        }
      ]
    },
    {
      "cell_type": "code",
      "source": [
        "#4번\n",
        "nums = []\n",
        "for n in range(1, 10):\n",
        "  if n%3==0:\n",
        "    nums.append(n*n)\n",
        "for i in nums:\n",
        "  print(i, end = \",\")"
      ],
      "metadata": {
        "colab": {
          "base_uri": "https://localhost:8080/"
        },
        "id": "qXr-CZzv9K3K",
        "outputId": "9f526685-f3cc-465a-b7be-cc62c53269b6"
      },
      "execution_count": 100,
      "outputs": [
        {
          "output_type": "stream",
          "name": "stdout",
          "text": [
            "9,36,81,"
          ]
        }
      ]
    },
    {
      "cell_type": "code",
      "source": [
        "# 7번\n",
        "score = [10, 30, 50, 80,72]\n",
        "score.sort()\n",
        "print(score)"
      ],
      "metadata": {
        "colab": {
          "base_uri": "https://localhost:8080/"
        },
        "id": "uR2whIfV94gl",
        "outputId": "d9219231-c7eb-4de4-b91b-171fea099cdd"
      },
      "execution_count": 97,
      "outputs": [
        {
          "output_type": "stream",
          "name": "stdout",
          "text": [
            "[10, 30, 50, 72, 80]\n"
          ]
        }
      ]
    },
    {
      "cell_type": "code",
      "source": [
        "dic = {'boy': '소년', 'school':'학교', 'book':'책'}\n",
        "print(dic)"
      ],
      "metadata": {
        "colab": {
          "base_uri": "https://localhost:8080/"
        },
        "id": "O6JSlmsM-Nfp",
        "outputId": "74420136-5b51-4499-e16b-d034bf97a3a1"
      },
      "execution_count": 101,
      "outputs": [
        {
          "output_type": "stream",
          "name": "stdout",
          "text": [
            "{'boy': '소년', 'school': '학교', 'book': '책'}\n"
          ]
        }
      ]
    },
    {
      "cell_type": "code",
      "source": [
        "dic = {'boy':'소년', 'school':'학교', 'book':'책'}\n",
        "print(dic['boy'])\n",
        "print(dic['book'])"
      ],
      "metadata": {
        "colab": {
          "base_uri": "https://localhost:8080/"
        },
        "id": "gBDJPQ40ClBM",
        "outputId": "8f51fb81-f4fa-41d8-a44f-3cda14ca0ef2"
      },
      "execution_count": 102,
      "outputs": [
        {
          "output_type": "stream",
          "name": "stdout",
          "text": [
            "소년\n",
            "책\n"
          ]
        }
      ]
    },
    {
      "cell_type": "code",
      "source": [
        "dic = {'boy':'소년', 'school':'학교', 'book':'책'}\n",
        "print(dic.get('student'))\n",
        "print(dic.get('student', '사전에 없는 단어입니다.'))"
      ],
      "metadata": {
        "colab": {
          "base_uri": "https://localhost:8080/"
        },
        "id": "7dD-FpHPC4KQ",
        "outputId": "90b25a28-1ac2-4df0-a061-ca11cbf7e7b0"
      },
      "execution_count": 103,
      "outputs": [
        {
          "output_type": "stream",
          "name": "stdout",
          "text": [
            "None\n",
            "사전에 없는 단어입니다.\n"
          ]
        }
      ]
    },
    {
      "cell_type": "code",
      "source": [
        "dic = {'boy':'소년', 'school':'학교', 'book':'책'}\n",
        "if 'student' in dic:\n",
        "  print(\"사전에 있는 단어입니다.\")\n",
        "else:\n",
        "  print(\"이 단어는 사전에 없습니다.\")"
      ],
      "metadata": {
        "colab": {
          "base_uri": "https://localhost:8080/"
        },
        "id": "z_43g0BhDJkc",
        "outputId": "4fc6f663-342a-4339-a234-7edae8b3c42b"
      },
      "execution_count": 104,
      "outputs": [
        {
          "output_type": "stream",
          "name": "stdout",
          "text": [
            "이 단어는 사전에 없습니다.\n"
          ]
        }
      ]
    },
    {
      "cell_type": "code",
      "source": [
        "dic = {'boy':'소년', 'school':'학교', 'book':'책'}\n",
        "dic['boy'] = '남자애'\n",
        "dic['girl'] = '소녀'\n",
        "del dic['book']\n",
        "print(dic)"
      ],
      "metadata": {
        "colab": {
          "base_uri": "https://localhost:8080/"
        },
        "id": "CEDwFe22DV2u",
        "outputId": "aa9e46f5-e890-4e54-a8e2-c9383ff63729"
      },
      "execution_count": 105,
      "outputs": [
        {
          "output_type": "stream",
          "name": "stdout",
          "text": [
            "{'boy': '남자애', 'school': '학교', 'girl': '소녀'}\n"
          ]
        }
      ]
    },
    {
      "cell_type": "code",
      "source": [
        "dic = {'boy':'소년', 'school':'학교', 'book':'책'}\n",
        "print(dic.keys())\n",
        "print(dic.values())\n",
        "print(dic.items())"
      ],
      "metadata": {
        "colab": {
          "base_uri": "https://localhost:8080/"
        },
        "id": "QwoQVGH5DgZZ",
        "outputId": "2d5b2071-7128-4526-890a-e092128a9bd4"
      },
      "execution_count": 106,
      "outputs": [
        {
          "output_type": "stream",
          "name": "stdout",
          "text": [
            "dict_keys(['boy', 'school', 'book'])\n",
            "dict_values(['소년', '학교', '책'])\n",
            "dict_items([('boy', '소년'), ('school', '학교'), ('book', '책')])\n"
          ]
        }
      ]
    },
    {
      "cell_type": "code",
      "source": [
        "dic = {'boy':'소년', 'school':'학교', 'book':'책'}\n",
        "keylist = dic.keys()\n",
        "for key in keylist:\n",
        "  print(key)"
      ],
      "metadata": {
        "colab": {
          "base_uri": "https://localhost:8080/"
        },
        "id": "DcuVM9f9D772",
        "outputId": "c8e07d72-89e3-4366-d4d0-e86a8159fcb3"
      },
      "execution_count": 107,
      "outputs": [
        {
          "output_type": "stream",
          "name": "stdout",
          "text": [
            "boy\n",
            "school\n",
            "book\n"
          ]
        }
      ]
    },
    {
      "cell_type": "code",
      "source": [
        "dic = {'boy':'소년', 'school':'학교', 'book':'책'}\n",
        "dic2 = {'student':'학생', 'teacher':'선생님', 'book':'서적'}\n",
        "dic.update(dic2)\n",
        "print(dic)"
      ],
      "metadata": {
        "colab": {
          "base_uri": "https://localhost:8080/"
        },
        "id": "yHOZhD74EIWd",
        "outputId": "deb9f356-81b8-41a4-e979-4bf7a51557d6"
      },
      "execution_count": 108,
      "outputs": [
        {
          "output_type": "stream",
          "name": "stdout",
          "text": [
            "{'boy': '소년', 'school': '학교', 'book': '서적', 'student': '학생', 'teacher': '선생님'}\n"
          ]
        }
      ]
    },
    {
      "cell_type": "code",
      "source": [
        "li = [['boy', '소년'], ['school', '학교'], ['book', '책']]\n",
        "dic = dict(li)\n",
        "print(dic)"
      ],
      "metadata": {
        "colab": {
          "base_uri": "https://localhost:8080/"
        },
        "id": "N0CWq7M9EZqs",
        "outputId": "6000ab5c-2903-4daa-893c-c12d0c283cf2"
      },
      "execution_count": 109,
      "outputs": [
        {
          "output_type": "stream",
          "name": "stdout",
          "text": [
            "{'boy': '소년', 'school': '학교', 'book': '책'}\n"
          ]
        }
      ]
    },
    {
      "cell_type": "code",
      "source": [
        "song = \"\"\"by the rivers of babylon, there we sat down\n",
        "yeah we wept, when we remember zion.\n",
        "when the wicked carried us away in captivity\n",
        "required from us a song\n",
        "now how shall we sing the lord's song in a strange land\"\"\"\n",
        "\n",
        "alphabet = dict()\n",
        "for c in song:\n",
        "  if c.isalpha() == False:\n",
        "    continue\n",
        "  c = c.lower()\n",
        "  if c not in alphabet:\n",
        "    alphabet[c] = 1\n",
        "  else:\n",
        "    alphabet[c] += 1\n",
        "\n",
        "print(alphabet)"
      ],
      "metadata": {
        "colab": {
          "base_uri": "https://localhost:8080/"
        },
        "id": "SybptlewEltO",
        "outputId": "a081a58d-e5a9-4f25-a13b-7048295b33bd"
      },
      "execution_count": 110,
      "outputs": [
        {
          "output_type": "stream",
          "name": "stdout",
          "text": [
            "{'b': 4, 'y': 5, 't': 9, 'h': 9, 'e': 22, 'r': 12, 'i': 10, 'v': 2, 's': 10, 'o': 10, 'f': 2, 'a': 12, 'l': 5, 'n': 13, 'w': 12, 'd': 6, 'p': 2, 'm': 3, 'z': 1, 'c': 3, 'k': 1, 'u': 3, 'q': 1, 'g': 4}\n"
          ]
        }
      ]
    },
    {
      "cell_type": "code",
      "source": [
        "key = list(alphabet.keys())\n",
        "key.sort()\n",
        "for c in key:\n",
        "  num = alphabet[c]\n",
        "  print(c, \"=>\", num)"
      ],
      "metadata": {
        "colab": {
          "base_uri": "https://localhost:8080/"
        },
        "id": "5eWJTzCzPW1e",
        "outputId": "ba73b2ef-3156-4476-dedc-e03249b13f79"
      },
      "execution_count": 111,
      "outputs": [
        {
          "output_type": "stream",
          "name": "stdout",
          "text": [
            "a => 12\n",
            "b => 4\n",
            "c => 3\n",
            "d => 6\n",
            "e => 22\n",
            "f => 2\n",
            "g => 4\n",
            "h => 9\n",
            "i => 10\n",
            "k => 1\n",
            "l => 5\n",
            "m => 3\n",
            "n => 13\n",
            "o => 10\n",
            "p => 2\n",
            "q => 1\n",
            "r => 12\n",
            "s => 10\n",
            "t => 9\n",
            "u => 3\n",
            "v => 2\n",
            "w => 12\n",
            "y => 5\n",
            "z => 1\n"
          ]
        }
      ]
    },
    {
      "cell_type": "code",
      "source": [
        "for code in range(ord('a'), ord('z') + 1):\n",
        "  c = chr(code)\n",
        "  num = alphabet.get(c, 0)\n",
        "  print(c, \"=>\", num)"
      ],
      "metadata": {
        "colab": {
          "base_uri": "https://localhost:8080/"
        },
        "id": "hY_lc-YvP9zs",
        "outputId": "9ef723db-92ae-4db9-df94-0f7a000e5233"
      },
      "execution_count": 112,
      "outputs": [
        {
          "output_type": "stream",
          "name": "stdout",
          "text": [
            "a => 12\n",
            "b => 4\n",
            "c => 3\n",
            "d => 6\n",
            "e => 22\n",
            "f => 2\n",
            "g => 4\n",
            "h => 9\n",
            "i => 10\n",
            "j => 0\n",
            "k => 1\n",
            "l => 5\n",
            "m => 3\n",
            "n => 13\n",
            "o => 10\n",
            "p => 2\n",
            "q => 1\n",
            "r => 12\n",
            "s => 10\n",
            "t => 9\n",
            "u => 3\n",
            "v => 2\n",
            "w => 12\n",
            "x => 0\n",
            "y => 5\n",
            "z => 1\n"
          ]
        }
      ]
    },
    {
      "cell_type": "code",
      "source": [
        "asia = {'korea', 'china', 'japan', 'korea'}\n",
        "print(asia)"
      ],
      "metadata": {
        "colab": {
          "base_uri": "https://localhost:8080/"
        },
        "id": "0Ca371PcQOCo",
        "outputId": "6327e07c-e851-4117-9133-171f34df5388"
      },
      "execution_count": 113,
      "outputs": [
        {
          "output_type": "stream",
          "name": "stdout",
          "text": [
            "{'korea', 'china', 'japan'}\n"
          ]
        }
      ]
    },
    {
      "cell_type": "code",
      "source": [
        "print(set(\"sanghyung\"))\n",
        "print(set([12, 34, 56, 78]))\n",
        "print(set((\"신지희\", \"한주완\", \"김태륜\")))\n",
        "print(set({'boy': '소년', 'school': '학교', 'book': '책'}))\n",
        "print(set())"
      ],
      "metadata": {
        "colab": {
          "base_uri": "https://localhost:8080/"
        },
        "id": "yY5wyFAXQmOS",
        "outputId": "6cbf24b0-1f32-42bb-ddac-1042d0e62925"
      },
      "execution_count": 115,
      "outputs": [
        {
          "output_type": "stream",
          "name": "stdout",
          "text": [
            "{'u', 's', 'n', 'h', 'a', 'y', 'g'}\n",
            "{56, 34, 12, 78}\n",
            "{'신지희', '김태륜', '한주완'}\n",
            "{'school', 'book', 'boy'}\n",
            "set()\n"
          ]
        }
      ]
    },
    {
      "cell_type": "code",
      "source": [
        "asia = {'korea', 'china', 'japan'}\n",
        "asia.add('vietnam') # 추가\n",
        "asia.add('china')\n",
        "asia.remove('japan') # 제거\n",
        "print(asia)\n",
        "\n",
        "asia.update({'singapore', 'hongkong', 'korea'})\n",
        "print(asia)"
      ],
      "metadata": {
        "colab": {
          "base_uri": "https://localhost:8080/"
        },
        "id": "DARAe0yXQuye",
        "outputId": "4460410a-ee6d-42d8-94e3-06507deff340"
      },
      "execution_count": 116,
      "outputs": [
        {
          "output_type": "stream",
          "name": "stdout",
          "text": [
            "{'korea', 'china', 'vietnam'}\n",
            "{'china', 'hongkong', 'vietnam', 'korea', 'singapore'}\n"
          ]
        }
      ]
    },
    {
      "cell_type": "code",
      "source": [
        "twox = {2, 4, 6, 8, 10, 12}\n",
        "threex = {3, 6, 9, 12, 15}\n",
        "\n",
        "print(\"교집합\", twox & threex)\n",
        "print(\"합집합\", twox | threex)\n",
        "print(\"차집합\", twox - threex)\n",
        "print(\"차집합\", threex - twox)\n",
        "print(\"배타적 차집합\", twox ^ threex)"
      ],
      "metadata": {
        "colab": {
          "base_uri": "https://localhost:8080/"
        },
        "id": "cnVNhK6jRRrl",
        "outputId": "21312ede-924b-49a5-dfbd-0dd68eb36ee5"
      },
      "execution_count": 117,
      "outputs": [
        {
          "output_type": "stream",
          "name": "stdout",
          "text": [
            "교집합 {12, 6}\n",
            "합집합 {2, 3, 4, 6, 8, 9, 10, 12, 15}\n",
            "차집합 {8, 2, 10, 4}\n",
            "차집합 {9, 3, 15}\n",
            "배타적 차집합 {2, 3, 4, 8, 9, 10, 15}\n"
          ]
        }
      ]
    },
    {
      "cell_type": "code",
      "source": [
        "mammal = {'코끼리', '고릴라', '사자', '고래', '사람', '원숭이', '개'}\n",
        "primate = {'사람', '원숭이', '고릴라'}\n",
        "\n",
        "if '사자' in mammal:\n",
        "  print(\"사자는 포유류입니다.\")\n",
        "else:\n",
        "  print(\"사자는 포유류가 아닙니다.\")\n",
        "\n",
        "print(primate <= mammal)\n",
        "print(primate < mammal)\n",
        "print(primate <= primate)\n",
        "print(primate < primate)"
      ],
      "metadata": {
        "colab": {
          "base_uri": "https://localhost:8080/"
        },
        "id": "pzsmYA2dRuXE",
        "outputId": "302c6f49-594e-4301-9113-5a2df33f24c5"
      },
      "execution_count": 118,
      "outputs": [
        {
          "output_type": "stream",
          "name": "stdout",
          "text": [
            "사자는 포유류입니다.\n",
            "True\n",
            "True\n",
            "True\n",
            "False\n"
          ]
        }
      ]
    },
    {
      "cell_type": "code",
      "source": [
        "color = {'빨': 'red', '주' : 'orange', '노': 'yellow', '초': 'green', '파': 'blue', '남': 'indigo', '보': 'purple'}\n",
        "print(color['초'])"
      ],
      "metadata": {
        "colab": {
          "base_uri": "https://localhost:8080/"
        },
        "id": "od3bPPN-ST-O",
        "outputId": "3f18ee14-6e00-4940-d740-85838e227a74"
      },
      "execution_count": 125,
      "outputs": [
        {
          "output_type": "stream",
          "name": "stdout",
          "text": [
            "green\n"
          ]
        }
      ]
    },
    {
      "cell_type": "code",
      "source": [],
      "metadata": {
        "id": "PA4OzyzmTIgv"
      },
      "execution_count": null,
      "outputs": []
    }
  ]
}