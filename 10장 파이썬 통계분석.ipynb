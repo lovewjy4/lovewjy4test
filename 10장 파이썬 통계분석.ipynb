import numpy as np
import pandas as pd
import matplotlib.pyplot as plt
from scipy import stats

%precision 3
%matplotlib inline
df = pd.read_csv('/content/ch4_scores400.csv')
scores = np.array(df['score'])
p_mean = np.mean(scores)
p_var = np.var(scores)

p_mean, p_var
(69.53, 206.6691)
fig = plt.figure(figsize=(10,6))
ax = fig.add_subplot(111)

xs = np.arange(101)
rv = stats.norm(p_mean, np.sqrt(p_var))
ax.plot(xs, rv.pdf(xs), color='gray')
ax.hist(scores, bins=100, range=(0,100), density=True)

plt.show()
np.random.seed(0)
n = 20
sample = np.random.choice(scores, n)
sample
np.random.seed(1111)
n_samples = 10000
samples = np.random.choice(scores, (n_samples, n))
for i in range(5):
  s_mean = np.mean(samples[i])
  print(f'{i+1}번째 표본평균: {s_mean:.3f}')
sample_means = np.mean(samples, axis=1)
np.mean(sample_means)
np.mean(np.random.choice(scores, int(1e6)))
s_mean = np.mean(sample)
s_mean
for i in range(5):
  s_var = np.var(samples[i])
  print(f'{i+1}번째 표본분산: {s_var:.3f}')
sample_vars = np.var(samples, axis=1)
np.mean(sample_vars)
sample_u_vars = np.var(samples, axis=1, ddof=1)
np.mean(sample_u_vars)
np.var(np.random.choice(scores, int(1e6)), ddof=1)
u_var = np.var(sample, ddof=1)
u_var
rv = stats.norm()
lcl = s_mean - rv.isf(0.025) * np.sqrt(p_var/n)
ucl = s_mean - rv.isf(0.975) * np.sqrt(p_var/n)

lcl, ucl
fig = plt.figure(figsize=(10,10))
ax = fig.add_subplot(111)

rv = stats.norm()
n_samples = 20
ax.vlines(p_mean, 0, 21)
for i in range(n_samples):
  sample_ = samples[i]
  s_mean_ = np.mean(sample_)
  lcl = s_mean_ - rv.isf(0.025) * np.sqrt(p_var/n)
  ucl = s_mean_ - rv.isf(0.975) * np.sqrt(p_var/n)
  if lcl <= p_mean <= ucl:
    ax.scatter(s_mean_, n_samples-i, color='gray')
    ax.hlines(n_samples-i, lcl, ucl, color='gray')
  else:
    ax.scatter(s_mean_, n_samples-i, color='b')
    ax.hlines(n_samples-i, lcl, ucl, color='b')
ax.set_xticks([p_mean])
ax.set_xticklabels(['population mean'])

plt.show()
rv = stats.norm()
cnt = 0

for sample_ in samples:
  s_mean_ = np.mean(sample_)
  lcl = s_mean_ - rv.isf(0.025) * np.sqrt(p_var/n)
  ucl = s_mean_ - rv.isf(0.975) * np.sqrt(p_var/n)
  if lcl <= p_mean <= ucl:
    cnt += 1
cnt / len(samples)
sample_y = sample_u_vars * (n-1) / p_var
sample_y
fig = plt.figure(figsize=(10,6))
ax = fig.add_subplot(111)

xs = np.linspace(0,40,100)
rv = stats.chi2(df=n-1)
ax.plot(xs, rv.pdf(xs), color='gray')
hist, _, _ = ax.hist(sample_y, bins=100,
                     range=(0,400), density=True)

plt.show()
rv = stats.chi2(df=n-1)
lcl = (n-1) * u_var / rv.isf(0.025)
hcl = (n-1) * u_var / rv.isf(0.975)

lcl, hcl
(91.52471947132238, 337.5955129124592)

fig = plt.figure(figsize=(10,10))
ax = fig.add_subplot(111)

rv = stats.chi2(df=n-1)
n_samples = 20
ax.vlines(p_var, 0, 21)
for i in range(n_samples):
  sample_ = samples[i]
  u_var_ = np.var(sample_, ddof=1)
  lcl = (n-1) * u_var_ / rv.isf(0.025)
  ucl = (n-1) * u_var_ / rv.isf(0.975)
  if lcl <= p_var <= ucl:
    ax.scatter(u_var_, n_samples-i, color='gray')
    ax.hlines(n_samples-i, lcl, ucl, 'gray')
  else:
    ax.scatter(u_var_, n_samples-i, color='gray')
    ax.hlines(n_samples-i, lcl, ucl, 'b')
ax.set_xticks([p_var])
ax.set_xticklabels(['population variance'])

plt.show()

rv = stats.chi2(df=n-1)
cnt = 0
for sample_ in samples:
  u_var_ = np.var(sample_, ddof=1)
  lcl = (n-1) * u_var_ / rv.isf(0.025)
  ucl = (n-1) * u_var_ / rv.isf(0.975)
  if lcl <= p_var <= ucl:
    cnt += 1

cnt / len(samples)
0.964
rv = stats.t(df=n-1)
lcl = s_mean - rv.isf(0.025) * np.sqrt(u_var/n)
ucl = s_mean - rv.isf(0.975) * np.sqrt(u_var/n)

lcl, ucl
(64.51244886603887, 76.28755113396114)
enquete_df = pd.read_csv('/content/ch10_enquete.csv')
enquete = np.array(enquete_df['known'])
n = len(enquete)
enquete[:10]
array([1, 0, 1, 1, 1, 1, 1, 0, 0, 1])
s_mean = enquete.mean()
s_mean
0.709
rv = stats.norm()
lcl = s_mean - rv.isf(0.025) * np.sqrt(s_mean*(1-s_mean)/n)
ucl = s_mean - rv.isf(0.975) * np.sqrt(s_mean*(1-s_mean)/n)

lcl, ucl
(0.6808474522924337, 0.7371525477075662)
n_access_df = pd.read_csv('/content/ch10_access.csv')
n_access = np.array(n_access_df['access number'])
n = len(n_access)
n_access[:10]
array([10, 11,  9,  9, 18, 13,  4, 10, 10,  8])
s_mean = n_access.mean()
s_mean
10.444444444444445
rv = stats.norm()
lcl = s_mean - rv.isf(0.025) * np.sqrt(s_mean/n)
ucl = s_mean - rv.isf(0.975) * np.sqrt(s_mean/n)

lcl, ucl
(9.697953549598202, 11.190935339290688)
