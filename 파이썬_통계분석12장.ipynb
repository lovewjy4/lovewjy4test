{
  "nbformat": 4,
  "nbformat_minor": 0,
  "metadata": {
    "colab": {
      "provenance": [],
      "authorship_tag": "ABX9TyPHA+L3liv8iC0t8ZM6zVnj",
      "include_colab_link": true
    },
    "kernelspec": {
      "name": "python3",
      "display_name": "Python 3"
    },
    "language_info": {
      "name": "python"
    }
  },
  "cells": [
    {
      "cell_type": "markdown",
      "metadata": {
        "id": "view-in-github",
        "colab_type": "text"
      },
      "source": [
        "<a href=\"https://colab.research.google.com/github/lovewjy4/lovewjy4test/blob/main/%ED%8C%8C%EC%9D%B4%EC%8D%AC_%ED%86%B5%EA%B3%84%EB%B6%84%EC%84%9D12%EC%9E%A5.ipynb\" target=\"_parent\"><img src=\"https://colab.research.google.com/assets/colab-badge.svg\" alt=\"Open In Colab\"/></a>"
      ]
    },
    {
      "cell_type": "code",
      "execution_count": 2,
      "metadata": {
        "id": "NmnHbYIqIZm2"
      },
      "outputs": [],
      "source": [
        "import numpy as np\n",
        "import pandas as pd\n",
        "import matplotlib.pyplot as plt\n",
        "from scipy import stats\n",
        "import statsmodels.formula.api as smf\n",
        "\n",
        "%precision 3\n",
        "%matplotlib inline"
      ]
    },
    {
      "cell_type": "code",
      "source": [
        "df = pd.read_csv('/content/ch12_scores_reg.csv')\n",
        "n = len(df)\n",
        "print(n)\n",
        "df.head()"
      ],
      "metadata": {
        "colab": {
          "base_uri": "https://localhost:8080/",
          "height": 224
        },
        "id": "AAJplHXDJL95",
        "outputId": "db8a6c56-9f34-41a2-a9b6-0af887ea1e9e"
      },
      "execution_count": 3,
      "outputs": [
        {
          "output_type": "stream",
          "name": "stdout",
          "text": [
            "20\n"
          ]
        },
        {
          "output_type": "execute_result",
          "data": {
            "text/plain": [
              "   quiz  final_test  sleep_time school_method\n",
              "0   4.2          67         7.2           bus\n",
              "1   7.2          71         7.9       bicycle\n",
              "2   0.0          19         5.3           bus\n",
              "3   3.0          35         6.8          walk\n",
              "4   1.5          35         7.5          walk"
            ],
            "text/html": [
              "\n",
              "  <div id=\"df-47455592-e8d1-4c45-91b3-832c787bacad\" class=\"colab-df-container\">\n",
              "    <div>\n",
              "<style scoped>\n",
              "    .dataframe tbody tr th:only-of-type {\n",
              "        vertical-align: middle;\n",
              "    }\n",
              "\n",
              "    .dataframe tbody tr th {\n",
              "        vertical-align: top;\n",
              "    }\n",
              "\n",
              "    .dataframe thead th {\n",
              "        text-align: right;\n",
              "    }\n",
              "</style>\n",
              "<table border=\"1\" class=\"dataframe\">\n",
              "  <thead>\n",
              "    <tr style=\"text-align: right;\">\n",
              "      <th></th>\n",
              "      <th>quiz</th>\n",
              "      <th>final_test</th>\n",
              "      <th>sleep_time</th>\n",
              "      <th>school_method</th>\n",
              "    </tr>\n",
              "  </thead>\n",
              "  <tbody>\n",
              "    <tr>\n",
              "      <th>0</th>\n",
              "      <td>4.2</td>\n",
              "      <td>67</td>\n",
              "      <td>7.2</td>\n",
              "      <td>bus</td>\n",
              "    </tr>\n",
              "    <tr>\n",
              "      <th>1</th>\n",
              "      <td>7.2</td>\n",
              "      <td>71</td>\n",
              "      <td>7.9</td>\n",
              "      <td>bicycle</td>\n",
              "    </tr>\n",
              "    <tr>\n",
              "      <th>2</th>\n",
              "      <td>0.0</td>\n",
              "      <td>19</td>\n",
              "      <td>5.3</td>\n",
              "      <td>bus</td>\n",
              "    </tr>\n",
              "    <tr>\n",
              "      <th>3</th>\n",
              "      <td>3.0</td>\n",
              "      <td>35</td>\n",
              "      <td>6.8</td>\n",
              "      <td>walk</td>\n",
              "    </tr>\n",
              "    <tr>\n",
              "      <th>4</th>\n",
              "      <td>1.5</td>\n",
              "      <td>35</td>\n",
              "      <td>7.5</td>\n",
              "      <td>walk</td>\n",
              "    </tr>\n",
              "  </tbody>\n",
              "</table>\n",
              "</div>\n",
              "    <div class=\"colab-df-buttons\">\n",
              "\n",
              "  <div class=\"colab-df-container\">\n",
              "    <button class=\"colab-df-convert\" onclick=\"convertToInteractive('df-47455592-e8d1-4c45-91b3-832c787bacad')\"\n",
              "            title=\"Convert this dataframe to an interactive table.\"\n",
              "            style=\"display:none;\">\n",
              "\n",
              "  <svg xmlns=\"http://www.w3.org/2000/svg\" height=\"24px\" viewBox=\"0 -960 960 960\">\n",
              "    <path d=\"M120-120v-720h720v720H120Zm60-500h600v-160H180v160Zm220 220h160v-160H400v160Zm0 220h160v-160H400v160ZM180-400h160v-160H180v160Zm440 0h160v-160H620v160ZM180-180h160v-160H180v160Zm440 0h160v-160H620v160Z\"/>\n",
              "  </svg>\n",
              "    </button>\n",
              "\n",
              "  <style>\n",
              "    .colab-df-container {\n",
              "      display:flex;\n",
              "      gap: 12px;\n",
              "    }\n",
              "\n",
              "    .colab-df-convert {\n",
              "      background-color: #E8F0FE;\n",
              "      border: none;\n",
              "      border-radius: 50%;\n",
              "      cursor: pointer;\n",
              "      display: none;\n",
              "      fill: #1967D2;\n",
              "      height: 32px;\n",
              "      padding: 0 0 0 0;\n",
              "      width: 32px;\n",
              "    }\n",
              "\n",
              "    .colab-df-convert:hover {\n",
              "      background-color: #E2EBFA;\n",
              "      box-shadow: 0px 1px 2px rgba(60, 64, 67, 0.3), 0px 1px 3px 1px rgba(60, 64, 67, 0.15);\n",
              "      fill: #174EA6;\n",
              "    }\n",
              "\n",
              "    .colab-df-buttons div {\n",
              "      margin-bottom: 4px;\n",
              "    }\n",
              "\n",
              "    [theme=dark] .colab-df-convert {\n",
              "      background-color: #3B4455;\n",
              "      fill: #D2E3FC;\n",
              "    }\n",
              "\n",
              "    [theme=dark] .colab-df-convert:hover {\n",
              "      background-color: #434B5C;\n",
              "      box-shadow: 0px 1px 3px 1px rgba(0, 0, 0, 0.15);\n",
              "      filter: drop-shadow(0px 1px 2px rgba(0, 0, 0, 0.3));\n",
              "      fill: #FFFFFF;\n",
              "    }\n",
              "  </style>\n",
              "\n",
              "    <script>\n",
              "      const buttonEl =\n",
              "        document.querySelector('#df-47455592-e8d1-4c45-91b3-832c787bacad button.colab-df-convert');\n",
              "      buttonEl.style.display =\n",
              "        google.colab.kernel.accessAllowed ? 'block' : 'none';\n",
              "\n",
              "      async function convertToInteractive(key) {\n",
              "        const element = document.querySelector('#df-47455592-e8d1-4c45-91b3-832c787bacad');\n",
              "        const dataTable =\n",
              "          await google.colab.kernel.invokeFunction('convertToInteractive',\n",
              "                                                    [key], {});\n",
              "        if (!dataTable) return;\n",
              "\n",
              "        const docLinkHtml = 'Like what you see? Visit the ' +\n",
              "          '<a target=\"_blank\" href=https://colab.research.google.com/notebooks/data_table.ipynb>data table notebook</a>'\n",
              "          + ' to learn more about interactive tables.';\n",
              "        element.innerHTML = '';\n",
              "        dataTable['output_type'] = 'display_data';\n",
              "        await google.colab.output.renderOutput(dataTable, element);\n",
              "        const docLink = document.createElement('div');\n",
              "        docLink.innerHTML = docLinkHtml;\n",
              "        element.appendChild(docLink);\n",
              "      }\n",
              "    </script>\n",
              "  </div>\n",
              "\n",
              "\n",
              "<div id=\"df-a6792421-1ddc-4fe2-8bc6-99176bcfcd3f\">\n",
              "  <button class=\"colab-df-quickchart\" onclick=\"quickchart('df-a6792421-1ddc-4fe2-8bc6-99176bcfcd3f')\"\n",
              "            title=\"Suggest charts.\"\n",
              "            style=\"display:none;\">\n",
              "\n",
              "<svg xmlns=\"http://www.w3.org/2000/svg\" height=\"24px\"viewBox=\"0 0 24 24\"\n",
              "     width=\"24px\">\n",
              "    <g>\n",
              "        <path d=\"M19 3H5c-1.1 0-2 .9-2 2v14c0 1.1.9 2 2 2h14c1.1 0 2-.9 2-2V5c0-1.1-.9-2-2-2zM9 17H7v-7h2v7zm4 0h-2V7h2v10zm4 0h-2v-4h2v4z\"/>\n",
              "    </g>\n",
              "</svg>\n",
              "  </button>\n",
              "\n",
              "<style>\n",
              "  .colab-df-quickchart {\n",
              "      --bg-color: #E8F0FE;\n",
              "      --fill-color: #1967D2;\n",
              "      --hover-bg-color: #E2EBFA;\n",
              "      --hover-fill-color: #174EA6;\n",
              "      --disabled-fill-color: #AAA;\n",
              "      --disabled-bg-color: #DDD;\n",
              "  }\n",
              "\n",
              "  [theme=dark] .colab-df-quickchart {\n",
              "      --bg-color: #3B4455;\n",
              "      --fill-color: #D2E3FC;\n",
              "      --hover-bg-color: #434B5C;\n",
              "      --hover-fill-color: #FFFFFF;\n",
              "      --disabled-bg-color: #3B4455;\n",
              "      --disabled-fill-color: #666;\n",
              "  }\n",
              "\n",
              "  .colab-df-quickchart {\n",
              "    background-color: var(--bg-color);\n",
              "    border: none;\n",
              "    border-radius: 50%;\n",
              "    cursor: pointer;\n",
              "    display: none;\n",
              "    fill: var(--fill-color);\n",
              "    height: 32px;\n",
              "    padding: 0;\n",
              "    width: 32px;\n",
              "  }\n",
              "\n",
              "  .colab-df-quickchart:hover {\n",
              "    background-color: var(--hover-bg-color);\n",
              "    box-shadow: 0 1px 2px rgba(60, 64, 67, 0.3), 0 1px 3px 1px rgba(60, 64, 67, 0.15);\n",
              "    fill: var(--button-hover-fill-color);\n",
              "  }\n",
              "\n",
              "  .colab-df-quickchart-complete:disabled,\n",
              "  .colab-df-quickchart-complete:disabled:hover {\n",
              "    background-color: var(--disabled-bg-color);\n",
              "    fill: var(--disabled-fill-color);\n",
              "    box-shadow: none;\n",
              "  }\n",
              "\n",
              "  .colab-df-spinner {\n",
              "    border: 2px solid var(--fill-color);\n",
              "    border-color: transparent;\n",
              "    border-bottom-color: var(--fill-color);\n",
              "    animation:\n",
              "      spin 1s steps(1) infinite;\n",
              "  }\n",
              "\n",
              "  @keyframes spin {\n",
              "    0% {\n",
              "      border-color: transparent;\n",
              "      border-bottom-color: var(--fill-color);\n",
              "      border-left-color: var(--fill-color);\n",
              "    }\n",
              "    20% {\n",
              "      border-color: transparent;\n",
              "      border-left-color: var(--fill-color);\n",
              "      border-top-color: var(--fill-color);\n",
              "    }\n",
              "    30% {\n",
              "      border-color: transparent;\n",
              "      border-left-color: var(--fill-color);\n",
              "      border-top-color: var(--fill-color);\n",
              "      border-right-color: var(--fill-color);\n",
              "    }\n",
              "    40% {\n",
              "      border-color: transparent;\n",
              "      border-right-color: var(--fill-color);\n",
              "      border-top-color: var(--fill-color);\n",
              "    }\n",
              "    60% {\n",
              "      border-color: transparent;\n",
              "      border-right-color: var(--fill-color);\n",
              "    }\n",
              "    80% {\n",
              "      border-color: transparent;\n",
              "      border-right-color: var(--fill-color);\n",
              "      border-bottom-color: var(--fill-color);\n",
              "    }\n",
              "    90% {\n",
              "      border-color: transparent;\n",
              "      border-bottom-color: var(--fill-color);\n",
              "    }\n",
              "  }\n",
              "</style>\n",
              "\n",
              "  <script>\n",
              "    async function quickchart(key) {\n",
              "      const quickchartButtonEl =\n",
              "        document.querySelector('#' + key + ' button');\n",
              "      quickchartButtonEl.disabled = true;  // To prevent multiple clicks.\n",
              "      quickchartButtonEl.classList.add('colab-df-spinner');\n",
              "      try {\n",
              "        const charts = await google.colab.kernel.invokeFunction(\n",
              "            'suggestCharts', [key], {});\n",
              "      } catch (error) {\n",
              "        console.error('Error during call to suggestCharts:', error);\n",
              "      }\n",
              "      quickchartButtonEl.classList.remove('colab-df-spinner');\n",
              "      quickchartButtonEl.classList.add('colab-df-quickchart-complete');\n",
              "    }\n",
              "    (() => {\n",
              "      let quickchartButtonEl =\n",
              "        document.querySelector('#df-a6792421-1ddc-4fe2-8bc6-99176bcfcd3f button');\n",
              "      quickchartButtonEl.style.display =\n",
              "        google.colab.kernel.accessAllowed ? 'block' : 'none';\n",
              "    })();\n",
              "  </script>\n",
              "</div>\n",
              "    </div>\n",
              "  </div>\n"
            ]
          },
          "metadata": {},
          "execution_count": 3
        }
      ]
    },
    {
      "cell_type": "code",
      "source": [
        "x = np.array(df['quiz'])\n",
        "y = np.array(df['final_test'])\n",
        "p = 1"
      ],
      "metadata": {
        "id": "WGWfZg5-JZPo"
      },
      "execution_count": 4,
      "outputs": []
    },
    {
      "cell_type": "code",
      "source": [
        "poly_fit = np.polyfit(x,y,1)\n",
        "poly_1d = np.poly1d(poly_fit)\n",
        "xs = np.linspace(x.min(), x.max())\n",
        "ys = poly_1d(xs)\n",
        "\n",
        "fig = plt.figure(figsize=(10,6))\n",
        "ax = fig.add_subplot(111)\n",
        "ax.set_xlabel('quiz')\n",
        "ax.set_ylabel('final test')\n",
        "ax.plot(xs, ys, color='gray',\n",
        "        label=f'{poly_fit[1]:.2f}+{poly_fit[0]:.2f}')\n",
        "ax.scatter(x,y)\n",
        "ax.legend()\n",
        "\n",
        "plt.show()"
      ],
      "metadata": {
        "colab": {
          "base_uri": "https://localhost:8080/",
          "height": 542
        },
        "id": "hDknxhhXJup_",
        "outputId": "fa08a367-bf53-491f-e06a-7fecba5c7f9c"
      },
      "execution_count": 36,
      "outputs": [
        {
          "output_type": "display_data",
          "data": {
            "text/plain": [
              "<Figure size 1000x600 with 1 Axes>"
            ],
            "image/png": "[encoded data removed]"
          },
          "metadata": {}
        }
      ]
    },
    {
      "cell_type": "code",
      "source": [
        "formula = 'final_test ~ quiz'\n",
        "result = smf.ols(formula, df).fit()\n",
        "result.summary()"
      ],
      "metadata": {
        "colab": {
          "base_uri": "https://localhost:8080/",
          "height": 444
        },
        "id": "nc91rZcWKG8Q",
        "outputId": "fd8ff364-7376-452c-ffe1-775153f2358f"
      },
      "execution_count": 6,
      "outputs": [
        {
          "output_type": "execute_result",
          "data": {
            "text/plain": [
              "<class 'statsmodels.iolib.summary.Summary'>\n",
              "\"\"\"\n",
              "                            OLS Regression Results                            \n",
              "==============================================================================\n",
              "Dep. Variable:             final_test   R-squared:                       0.676\n",
              "Model:                            OLS   Adj. R-squared:                  0.658\n",
              "Method:                 Least Squares   F-statistic:                     37.61\n",
              "Date:                Mon, 25 Sep 2023   Prob (F-statistic):           8.59e-06\n",
              "Time:                        02:28:53   Log-Likelihood:                -76.325\n",
              "No. Observations:                  20   AIC:                             156.7\n",
              "Df Residuals:                      18   BIC:                             158.6\n",
              "Df Model:                           1                                         \n",
              "Covariance Type:            nonrobust                                         \n",
              "==============================================================================\n",
              "                 coef    std err          t      P>|t|      [0.025      0.975]\n",
              "------------------------------------------------------------------------------\n",
              "Intercept     23.6995      4.714      5.028      0.000      13.796      33.603\n",
              "quiz           6.5537      1.069      6.133      0.000       4.309       8.799\n",
              "==============================================================================\n",
              "Omnibus:                        2.139   Durbin-Watson:                   1.478\n",
              "Prob(Omnibus):                  0.343   Jarque-Bera (JB):                1.773\n",
              "Skew:                           0.670   Prob(JB):                        0.412\n",
              "Kurtosis:                       2.422   Cond. No.                         8.32\n",
              "==============================================================================\n",
              "\n",
              "Notes:\n",
              "[1] Standard Errors assume that the covariance matrix of the errors is correctly specified.\n",
              "\"\"\""
            ],
            "text/html": [
              "<table class=\"simpletable\">\n",
              "<caption>OLS Regression Results</caption>\n",
              "<tr>\n",
              "  <th>Dep. Variable:</th>       <td>final_test</td>    <th>  R-squared:         </th> <td>   0.676</td>\n",
              "</tr>\n",
              "<tr>\n",
              "  <th>Model:</th>                   <td>OLS</td>       <th>  Adj. R-squared:    </th> <td>   0.658</td>\n",
              "</tr>\n",
              "<tr>\n",
              "  <th>Method:</th>             <td>Least Squares</td>  <th>  F-statistic:       </th> <td>   37.61</td>\n",
              "</tr>\n",
              "<tr>\n",
              "  <th>Date:</th>             <td>Mon, 25 Sep 2023</td> <th>  Prob (F-statistic):</th> <td>8.59e-06</td>\n",
              "</tr>\n",
              "<tr>\n",
              "  <th>Time:</th>                 <td>02:28:53</td>     <th>  Log-Likelihood:    </th> <td> -76.325</td>\n",
              "</tr>\n",
              "<tr>\n",
              "  <th>No. Observations:</th>      <td>    20</td>      <th>  AIC:               </th> <td>   156.7</td>\n",
              "</tr>\n",
              "<tr>\n",
              "  <th>Df Residuals:</th>          <td>    18</td>      <th>  BIC:               </th> <td>   158.6</td>\n",
              "</tr>\n",
              "<tr>\n",
              "  <th>Df Model:</th>              <td>     1</td>      <th>                     </th>     <td> </td>   \n",
              "</tr>\n",
              "<tr>\n",
              "  <th>Covariance Type:</th>      <td>nonrobust</td>    <th>                     </th>     <td> </td>   \n",
              "</tr>\n",
              "</table>\n",
              "<table class=\"simpletable\">\n",
              "<tr>\n",
              "      <td></td>         <th>coef</th>     <th>std err</th>      <th>t</th>      <th>P>|t|</th>  <th>[0.025</th>    <th>0.975]</th>  \n",
              "</tr>\n",
              "<tr>\n",
              "  <th>Intercept</th> <td>   23.6995</td> <td>    4.714</td> <td>    5.028</td> <td> 0.000</td> <td>   13.796</td> <td>   33.603</td>\n",
              "</tr>\n",
              "<tr>\n",
              "  <th>quiz</th>      <td>    6.5537</td> <td>    1.069</td> <td>    6.133</td> <td> 0.000</td> <td>    4.309</td> <td>    8.799</td>\n",
              "</tr>\n",
              "</table>\n",
              "<table class=\"simpletable\">\n",
              "<tr>\n",
              "  <th>Omnibus:</th>       <td> 2.139</td> <th>  Durbin-Watson:     </th> <td>   1.478</td>\n",
              "</tr>\n",
              "<tr>\n",
              "  <th>Prob(Omnibus):</th> <td> 0.343</td> <th>  Jarque-Bera (JB):  </th> <td>   1.773</td>\n",
              "</tr>\n",
              "<tr>\n",
              "  <th>Skew:</th>          <td> 0.670</td> <th>  Prob(JB):          </th> <td>   0.412</td>\n",
              "</tr>\n",
              "<tr>\n",
              "  <th>Kurtosis:</th>      <td> 2.422</td> <th>  Cond. No.          </th> <td>    8.32</td>\n",
              "</tr>\n",
              "</table><br/><br/>Notes:<br/>[1] Standard Errors assume that the covariance matrix of the errors is correctly specified."
            ],
            "text/latex": "\\begin{center}\n\\begin{tabular}{lclc}\n\\toprule\n\\textbf{Dep. Variable:}    &   final\\_test    & \\textbf{  R-squared:         } &     0.676   \\\\\n\\textbf{Model:}            &       OLS        & \\textbf{  Adj. R-squared:    } &     0.658   \\\\\n\\textbf{Method:}           &  Least Squares   & \\textbf{  F-statistic:       } &     37.61   \\\\\n\\textbf{Date:}             & Mon, 25 Sep 2023 & \\textbf{  Prob (F-statistic):} &  8.59e-06   \\\\\n\\textbf{Time:}             &     02:28:53     & \\textbf{  Log-Likelihood:    } &   -76.325   \\\\\n\\textbf{No. Observations:} &          20      & \\textbf{  AIC:               } &     156.7   \\\\\n\\textbf{Df Residuals:}     &          18      & \\textbf{  BIC:               } &     158.6   \\\\\n\\textbf{Df Model:}         &           1      & \\textbf{                     } &             \\\\\n\\textbf{Covariance Type:}  &    nonrobust     & \\textbf{                     } &             \\\\\n\\bottomrule\n\\end{tabular}\n\\begin{tabular}{lcccccc}\n                   & \\textbf{coef} & \\textbf{std err} & \\textbf{t} & \\textbf{P$> |$t$|$} & \\textbf{[0.025} & \\textbf{0.975]}  \\\\\n\\midrule\n\\textbf{Intercept} &      23.6995  &        4.714     &     5.028  &         0.000        &       13.796    &       33.603     \\\\\n\\textbf{quiz}      &       6.5537  &        1.069     &     6.133  &         0.000        &        4.309    &        8.799     \\\\\n\\bottomrule\n\\end{tabular}\n\\begin{tabular}{lclc}\n\\textbf{Omnibus:}       &  2.139 & \\textbf{  Durbin-Watson:     } &    1.478  \\\\\n\\textbf{Prob(Omnibus):} &  0.343 & \\textbf{  Jarque-Bera (JB):  } &    1.773  \\\\\n\\textbf{Skew:}          &  0.670 & \\textbf{  Prob(JB):          } &    0.412  \\\\\n\\textbf{Kurtosis:}      &  2.422 & \\textbf{  Cond. No.          } &     8.32  \\\\\n\\bottomrule\n\\end{tabular}\n%\\caption{OLS Regression Results}\n\\end{center}\n\nNotes: \\newline\n [1] Standard Errors assume that the covariance matrix of the errors is correctly specified."
          },
          "metadata": {},
          "execution_count": 6
        }
      ]
    },
    {
      "cell_type": "code",
      "source": [
        "X = np.array([np.ones_like(x), x]).T\n",
        "X"
      ],
      "metadata": {
        "colab": {
          "base_uri": "https://localhost:8080/"
        },
        "id": "9vWVMWI5Ky8t",
        "outputId": "c4a467e2-2b0a-43ed-ac84-8e1bb81a5fab"
      },
      "execution_count": 7,
      "outputs": [
        {
          "output_type": "execute_result",
          "data": {
            "text/plain": [
              "array([[1. , 4.2],\n",
              "       [1. , 7.2],\n",
              "       [1. , 0. ],\n",
              "       [1. , 3. ],\n",
              "       [1. , 1.5],\n",
              "       [1. , 0.9],\n",
              "       [1. , 1.9],\n",
              "       [1. , 3.5],\n",
              "       [1. , 4. ],\n",
              "       [1. , 5.4],\n",
              "       [1. , 4.2],\n",
              "       [1. , 6.9],\n",
              "       [1. , 2. ],\n",
              "       [1. , 8.8],\n",
              "       [1. , 0.3],\n",
              "       [1. , 6.7],\n",
              "       [1. , 4.2],\n",
              "       [1. , 5.6],\n",
              "       [1. , 1.4],\n",
              "       [1. , 2. ]])"
            ]
          },
          "metadata": {},
          "execution_count": 7
        }
      ]
    },
    {
      "cell_type": "code",
      "source": [
        "beta0_hat, beta1_hat = np.linalg.lstsq(X, y)[0]\n",
        "beta0_hat, beta1_hat"
      ],
      "metadata": {
        "colab": {
          "base_uri": "https://localhost:8080/"
        },
        "id": "HWbpz-9xLdsd",
        "outputId": "ee3a2c54-fa33-40ce-8bb0-452a291f6a45"
      },
      "execution_count": 8,
      "outputs": [
        {
          "output_type": "stream",
          "name": "stderr",
          "text": [
            "<ipython-input-8-db859e0f352c>:1: FutureWarning: `rcond` parameter will change to the default of machine precision times ``max(M, N)`` where M and N are the input matrix dimensions.\n",
            "To use the future default and silence this warning we advise to pass `rcond=None`, to keep using the old, explicitly pass `rcond=-1`.\n",
            "  beta0_hat, beta1_hat = np.linalg.lstsq(X, y)[0]\n"
          ]
        },
        {
          "output_type": "execute_result",
          "data": {
            "text/plain": [
              "(23.699495346731215, 6.553732606043083)"
            ]
          },
          "metadata": {},
          "execution_count": 8
        }
      ]
    },
    {
      "cell_type": "code",
      "source": [
        "y_hat = beta0_hat + beta1_hat * x\n",
        "eps_hat = y - y_hat"
      ],
      "metadata": {
        "id": "8GMo0r45LlaB"
      },
      "execution_count": 9,
      "outputs": []
    },
    {
      "cell_type": "code",
      "source": [
        "s_var = np.var(eps_hat, ddof=p+1)\n",
        "s_var"
      ],
      "metadata": {
        "colab": {
          "base_uri": "https://localhost:8080/"
        },
        "id": "boa-_yHXLrmG",
        "outputId": "f4d43fee-629f-479c-e203-2ef4b099b04f"
      },
      "execution_count": 10,
      "outputs": [
        {
          "output_type": "execute_result",
          "data": {
            "text/plain": [
              "134.29043473495898"
            ]
          },
          "metadata": {},
          "execution_count": 10
        }
      ]
    },
    {
      "cell_type": "code",
      "source": [
        "C0, C1 = np.diag(np.linalg.pinv(np.dot(X.T, X)))"
      ],
      "metadata": {
        "id": "l6l8x4xjL1YP"
      },
      "execution_count": 15,
      "outputs": []
    },
    {
      "cell_type": "code",
      "source": [
        "np.sqrt(s_var * C0), np.sqrt(s_var * C1)"
      ],
      "metadata": {
        "colab": {
          "base_uri": "https://localhost:8080/"
        },
        "id": "8c8Q3BmKL-F2",
        "outputId": "66727ea8-0a5f-4577-8b58-4fff35a1b003"
      },
      "execution_count": 16,
      "outputs": [
        {
          "output_type": "execute_result",
          "data": {
            "text/plain": [
              "(4.713837012645704, 1.0685841387335373)"
            ]
          },
          "metadata": {},
          "execution_count": 16
        }
      ]
    },
    {
      "cell_type": "code",
      "source": [
        "rv = stats.t(n-2)\n",
        "\n",
        "lcl = beta0_hat - rv.isf(0.025) * np.sqrt(s_var * C0)\n",
        "hcl = beta0_hat - rv.isf(0.975) * np.sqrt(s_var * C0)\n",
        "lcl, hcl"
      ],
      "metadata": {
        "colab": {
          "base_uri": "https://localhost:8080/"
        },
        "id": "Y4doFtR6MCvR",
        "outputId": "a546eee5-7299-4c17-c986-365a2b730920"
      },
      "execution_count": 20,
      "outputs": [
        {
          "output_type": "execute_result",
          "data": {
            "text/plain": [
              "(13.79609127276025, 33.60289942070218)"
            ]
          },
          "metadata": {},
          "execution_count": 20
        }
      ]
    },
    {
      "cell_type": "code",
      "source": [
        "rv = stats.t(n-2)\n",
        "\n",
        "lcl = beta1_hat - rv.isf(0.025) * np.sqrt(s_var * C1)\n",
        "hcl = beta1_hat-  rv.isf(0.975) * np.sqrt(s_var * C1)\n",
        "\n",
        "lcl, hcl"
      ],
      "metadata": {
        "colab": {
          "base_uri": "https://localhost:8080/"
        },
        "id": "63Vlb_DnMVWR",
        "outputId": "dca7c39b-f3fd-47a2-bbd8-5355b967f511"
      },
      "execution_count": 21,
      "outputs": [
        {
          "output_type": "execute_result",
          "data": {
            "text/plain": [
              "(4.308720637125891, 8.798744574960276)"
            ]
          },
          "metadata": {},
          "execution_count": 21
        }
      ]
    },
    {
      "cell_type": "code",
      "source": [
        "t = beta1_hat / np.sqrt(s_var * C1)\n",
        "t"
      ],
      "metadata": {
        "colab": {
          "base_uri": "https://localhost:8080/"
        },
        "id": "ESeB8Wx6NKbT",
        "outputId": "d94879d6-0055-4b71-b6ed-ad5c46b983e0"
      },
      "execution_count": 22,
      "outputs": [
        {
          "output_type": "execute_result",
          "data": {
            "text/plain": [
              "6.1330992745320225"
            ]
          },
          "metadata": {},
          "execution_count": 22
        }
      ]
    },
    {
      "cell_type": "code",
      "source": [
        "1 - rv.cdf(t) * 2"
      ],
      "metadata": {
        "colab": {
          "base_uri": "https://localhost:8080/"
        },
        "id": "05IzJaQYNZmy",
        "outputId": "c201c997-144a-4e21-e0c9-240d2504a852"
      },
      "execution_count": 25,
      "outputs": [
        {
          "output_type": "execute_result",
          "data": {
            "text/plain": [
              "-0.9999914091241333"
            ]
          },
          "metadata": {},
          "execution_count": 25
        }
      ]
    },
    {
      "cell_type": "code",
      "source": [
        "t = beta0_hat / np.sqrt(s_var * C0)\n",
        "t"
      ],
      "metadata": {
        "colab": {
          "base_uri": "https://localhost:8080/"
        },
        "id": "afiZoyEDNcog",
        "outputId": "a998e1d3-d257-4632-846d-d5a2d0dbea07"
      },
      "execution_count": 26,
      "outputs": [
        {
          "output_type": "execute_result",
          "data": {
            "text/plain": [
              "5.0276442064401285"
            ]
          },
          "metadata": {},
          "execution_count": 26
        }
      ]
    },
    {
      "cell_type": "code",
      "source": [
        "(1-rv.cdf(t)) * 2"
      ],
      "metadata": {
        "colab": {
          "base_uri": "https://localhost:8080/"
        },
        "id": "ZUT06BNuNkAC",
        "outputId": "9b5c663c-8538-4872-a561-a654d20f2d96"
      },
      "execution_count": 27,
      "outputs": [
        {
          "output_type": "execute_result",
          "data": {
            "text/plain": [
              "8.745298393209033e-05"
            ]
          },
          "metadata": {},
          "execution_count": 27
        }
      ]
    },
    {
      "cell_type": "code",
      "source": [
        "formula = 'final_test ~ quiz + sleep_time'\n",
        "result = smf.ols(formula, df).fit()\n",
        "result.summary()"
      ],
      "metadata": {
        "colab": {
          "base_uri": "https://localhost:8080/",
          "height": 465
        },
        "id": "VW8wG5k6Nlih",
        "outputId": "86ee8292-416d-4530-dd9f-37c05f59e4fe"
      },
      "execution_count": 28,
      "outputs": [
        {
          "output_type": "execute_result",
          "data": {
            "text/plain": [
              "<class 'statsmodels.iolib.summary.Summary'>\n",
              "\"\"\"\n",
              "                            OLS Regression Results                            \n",
              "==============================================================================\n",
              "Dep. Variable:             final_test   R-squared:                       0.756\n",
              "Model:                            OLS   Adj. R-squared:                  0.727\n",
              "Method:                 Least Squares   F-statistic:                     26.35\n",
              "Date:                Mon, 25 Sep 2023   Prob (F-statistic):           6.19e-06\n",
              "Time:                        02:42:29   Log-Likelihood:                -73.497\n",
              "No. Observations:                  20   AIC:                             153.0\n",
              "Df Residuals:                      17   BIC:                             156.0\n",
              "Df Model:                           2                                         \n",
              "Covariance Type:            nonrobust                                         \n",
              "==============================================================================\n",
              "                 coef    std err          t      P>|t|      [0.025      0.975]\n",
              "------------------------------------------------------------------------------\n",
              "Intercept     -1.8709     11.635     -0.161      0.874     -26.420      22.678\n",
              "quiz           6.4289      0.956      6.725      0.000       4.412       8.446\n",
              "sleep_time     4.1917      1.778      2.357      0.031       0.440       7.943\n",
              "==============================================================================\n",
              "Omnibus:                        2.073   Durbin-Watson:                   1.508\n",
              "Prob(Omnibus):                  0.355   Jarque-Bera (JB):                1.716\n",
              "Skew:                           0.660   Prob(JB):                        0.424\n",
              "Kurtosis:                       2.437   Cond. No.                         38.0\n",
              "==============================================================================\n",
              "\n",
              "Notes:\n",
              "[1] Standard Errors assume that the covariance matrix of the errors is correctly specified.\n",
              "\"\"\""
            ],
            "text/html": [
              "<table class=\"simpletable\">\n",
              "<caption>OLS Regression Results</caption>\n",
              "<tr>\n",
              "  <th>Dep. Variable:</th>       <td>final_test</td>    <th>  R-squared:         </th> <td>   0.756</td>\n",
              "</tr>\n",
              "<tr>\n",
              "  <th>Model:</th>                   <td>OLS</td>       <th>  Adj. R-squared:    </th> <td>   0.727</td>\n",
              "</tr>\n",
              "<tr>\n",
              "  <th>Method:</th>             <td>Least Squares</td>  <th>  F-statistic:       </th> <td>   26.35</td>\n",
              "</tr>\n",
              "<tr>\n",
              "  <th>Date:</th>             <td>Mon, 25 Sep 2023</td> <th>  Prob (F-statistic):</th> <td>6.19e-06</td>\n",
              "</tr>\n",
              "<tr>\n",
              "  <th>Time:</th>                 <td>02:42:29</td>     <th>  Log-Likelihood:    </th> <td> -73.497</td>\n",
              "</tr>\n",
              "<tr>\n",
              "  <th>No. Observations:</th>      <td>    20</td>      <th>  AIC:               </th> <td>   153.0</td>\n",
              "</tr>\n",
              "<tr>\n",
              "  <th>Df Residuals:</th>          <td>    17</td>      <th>  BIC:               </th> <td>   156.0</td>\n",
              "</tr>\n",
              "<tr>\n",
              "  <th>Df Model:</th>              <td>     2</td>      <th>                     </th>     <td> </td>   \n",
              "</tr>\n",
              "<tr>\n",
              "  <th>Covariance Type:</th>      <td>nonrobust</td>    <th>                     </th>     <td> </td>   \n",
              "</tr>\n",
              "</table>\n",
              "<table class=\"simpletable\">\n",
              "<tr>\n",
              "       <td></td>         <th>coef</th>     <th>std err</th>      <th>t</th>      <th>P>|t|</th>  <th>[0.025</th>    <th>0.975]</th>  \n",
              "</tr>\n",
              "<tr>\n",
              "  <th>Intercept</th>  <td>   -1.8709</td> <td>   11.635</td> <td>   -0.161</td> <td> 0.874</td> <td>  -26.420</td> <td>   22.678</td>\n",
              "</tr>\n",
              "<tr>\n",
              "  <th>quiz</th>       <td>    6.4289</td> <td>    0.956</td> <td>    6.725</td> <td> 0.000</td> <td>    4.412</td> <td>    8.446</td>\n",
              "</tr>\n",
              "<tr>\n",
              "  <th>sleep_time</th> <td>    4.1917</td> <td>    1.778</td> <td>    2.357</td> <td> 0.031</td> <td>    0.440</td> <td>    7.943</td>\n",
              "</tr>\n",
              "</table>\n",
              "<table class=\"simpletable\">\n",
              "<tr>\n",
              "  <th>Omnibus:</th>       <td> 2.073</td> <th>  Durbin-Watson:     </th> <td>   1.508</td>\n",
              "</tr>\n",
              "<tr>\n",
              "  <th>Prob(Omnibus):</th> <td> 0.355</td> <th>  Jarque-Bera (JB):  </th> <td>   1.716</td>\n",
              "</tr>\n",
              "<tr>\n",
              "  <th>Skew:</th>          <td> 0.660</td> <th>  Prob(JB):          </th> <td>   0.424</td>\n",
              "</tr>\n",
              "<tr>\n",
              "  <th>Kurtosis:</th>      <td> 2.437</td> <th>  Cond. No.          </th> <td>    38.0</td>\n",
              "</tr>\n",
              "</table><br/><br/>Notes:<br/>[1] Standard Errors assume that the covariance matrix of the errors is correctly specified."
            ],
            "text/latex": "\\begin{center}\n\\begin{tabular}{lclc}\n\\toprule\n\\textbf{Dep. Variable:}    &   final\\_test    & \\textbf{  R-squared:         } &     0.756   \\\\\n\\textbf{Model:}            &       OLS        & \\textbf{  Adj. R-squared:    } &     0.727   \\\\\n\\textbf{Method:}           &  Least Squares   & \\textbf{  F-statistic:       } &     26.35   \\\\\n\\textbf{Date:}             & Mon, 25 Sep 2023 & \\textbf{  Prob (F-statistic):} &  6.19e-06   \\\\\n\\textbf{Time:}             &     02:42:29     & \\textbf{  Log-Likelihood:    } &   -73.497   \\\\\n\\textbf{No. Observations:} &          20      & \\textbf{  AIC:               } &     153.0   \\\\\n\\textbf{Df Residuals:}     &          17      & \\textbf{  BIC:               } &     156.0   \\\\\n\\textbf{Df Model:}         &           2      & \\textbf{                     } &             \\\\\n\\textbf{Covariance Type:}  &    nonrobust     & \\textbf{                     } &             \\\\\n\\bottomrule\n\\end{tabular}\n\\begin{tabular}{lcccccc}\n                     & \\textbf{coef} & \\textbf{std err} & \\textbf{t} & \\textbf{P$> |$t$|$} & \\textbf{[0.025} & \\textbf{0.975]}  \\\\\n\\midrule\n\\textbf{Intercept}   &      -1.8709  &       11.635     &    -0.161  &         0.874        &      -26.420    &       22.678     \\\\\n\\textbf{quiz}        &       6.4289  &        0.956     &     6.725  &         0.000        &        4.412    &        8.446     \\\\\n\\textbf{sleep\\_time} &       4.1917  &        1.778     &     2.357  &         0.031        &        0.440    &        7.943     \\\\\n\\bottomrule\n\\end{tabular}\n\\begin{tabular}{lclc}\n\\textbf{Omnibus:}       &  2.073 & \\textbf{  Durbin-Watson:     } &    1.508  \\\\\n\\textbf{Prob(Omnibus):} &  0.355 & \\textbf{  Jarque-Bera (JB):  } &    1.716  \\\\\n\\textbf{Skew:}          &  0.660 & \\textbf{  Prob(JB):          } &    0.424  \\\\\n\\textbf{Kurtosis:}      &  2.437 & \\textbf{  Cond. No.          } &     38.0  \\\\\n\\bottomrule\n\\end{tabular}\n%\\caption{OLS Regression Results}\n\\end{center}\n\nNotes: \\newline\n [1] Standard Errors assume that the covariance matrix of the errors is correctly specified."
          },
          "metadata": {},
          "execution_count": 28
        }
      ]
    },
    {
      "cell_type": "code",
      "source": [
        "x1 = df['quiz']\n",
        "x2 = df['sleep_time']\n",
        "\n",
        "y = df['final_test']\n",
        "p = 2"
      ],
      "metadata": {
        "id": "GFcPJ_6rN6XF"
      },
      "execution_count": 29,
      "outputs": []
    },
    {
      "cell_type": "code",
      "source": [
        "X = np.array([np.ones_like(x1), x1, x2]).T\n",
        "beta0_hat, beta1_hat, beta2_hat = np.linalg.lstsq(X, y)[0]\n",
        "beta0_hat, beta1_hat, beta2_hat"
      ],
      "metadata": {
        "colab": {
          "base_uri": "https://localhost:8080/"
        },
        "id": "KgARgosTOKNH",
        "outputId": "94cd5c11-ccbe-4c7b-d856-455afd4af6aa"
      },
      "execution_count": 31,
      "outputs": [
        {
          "output_type": "stream",
          "name": "stderr",
          "text": [
            "<ipython-input-31-e24e98ac4cc2>:2: FutureWarning: `rcond` parameter will change to the default of machine precision times ``max(M, N)`` where M and N are the input matrix dimensions.\n",
            "To use the future default and silence this warning we advise to pass `rcond=None`, to keep using the old, explicitly pass `rcond=-1`.\n",
            "  beta0_hat, beta1_hat, beta2_hat = np.linalg.lstsq(X, y)[0]\n"
          ]
        },
        {
          "output_type": "execute_result",
          "data": {
            "text/plain": [
              "(-1.8709143470995777, 6.428878343002363, 4.1917065463986845)"
            ]
          },
          "metadata": {},
          "execution_count": 31
        }
      ]
    },
    {
      "cell_type": "code",
      "source": [
        "y_hat = beta0_hat + beta1_hat * x1 + beta2_hat * x2\n",
        "eps_hat = y - y_hat"
      ],
      "metadata": {
        "id": "QU28y8DpOWBA"
      },
      "execution_count": 32,
      "outputs": []
    },
    {
      "cell_type": "code",
      "source": [
        "s_var = np.sum(eps_hat ** 2) / (n - p - 1)\n",
        "C0, C1, C2 = np.diag(np.linalg.pinv(np.dot(X.T, X)))"
      ],
      "metadata": {
        "id": "yuXoOjK3OomR"
      },
      "execution_count": 33,
      "outputs": []
    },
    {
      "cell_type": "code",
      "source": [
        "rv = stats.t(n-p-1)\n",
        "\n",
        "lcl = beta2_hat - rv.isf(0.025) * np.sqrt(s_var * C2)\n",
        "hcl = beta2_hat - rv.isf(0.975) * np.sqrt(s_var * C2)\n",
        "lcl, hcl"
      ],
      "metadata": {
        "colab": {
          "base_uri": "https://localhost:8080/"
        },
        "id": "GilDsxlPO21Y",
        "outputId": "b5b66221-a8b3-47fb-c362-baff5d8779a0"
      },
      "execution_count": 34,
      "outputs": [
        {
          "output_type": "execute_result",
          "data": {
            "text/plain": [
              "(0.4402533325435849, 7.943159760253783)"
            ]
          },
          "metadata": {},
          "execution_count": 34
        }
      ]
    },
    {
      "cell_type": "code",
      "source": [
        "formula = 'final_test ~ quiz + sleep_time + school_method'\n",
        "result = smf.ols(formula, df).fit()\n",
        "result.summary()"
      ],
      "metadata": {
        "colab": {
          "base_uri": "https://localhost:8080/",
          "height": 507
        },
        "id": "DGkBWZt1PBQw",
        "outputId": "438b2467-3efb-459a-f57c-a37a90fca2bd"
      },
      "execution_count": 35,
      "outputs": [
        {
          "output_type": "execute_result",
          "data": {
            "text/plain": [
              "<class 'statsmodels.iolib.summary.Summary'>\n",
              "\"\"\"\n",
              "                            OLS Regression Results                            \n",
              "==============================================================================\n",
              "Dep. Variable:             final_test   R-squared:                       0.782\n",
              "Model:                            OLS   Adj. R-squared:                  0.724\n",
              "Method:                 Least Squares   F-statistic:                     13.46\n",
              "Date:                Mon, 25 Sep 2023   Prob (F-statistic):           7.47e-05\n",
              "Time:                        02:50:13   Log-Likelihood:                -72.368\n",
              "No. Observations:                  20   AIC:                             154.7\n",
              "Df Residuals:                      15   BIC:                             159.7\n",
              "Df Model:                           4                                         \n",
              "Covariance Type:            nonrobust                                         \n",
              "=========================================================================================\n",
              "                            coef    std err          t      P>|t|      [0.025      0.975]\n",
              "-----------------------------------------------------------------------------------------\n",
              "Intercept                 1.3330     12.434      0.107      0.916     -25.169      27.835\n",
              "school_method[T.bus]     -1.8118      6.324     -0.286      0.778     -15.292      11.668\n",
              "school_method[T.walk]    -7.6555      6.420     -1.192      0.252     -21.339       6.028\n",
              "quiz                      6.0029      1.033      5.809      0.000       3.800       8.206\n",
              "sleep_time                4.5238      1.809      2.501      0.024       0.668       8.380\n",
              "==============================================================================\n",
              "Omnibus:                        1.764   Durbin-Watson:                   1.418\n",
              "Prob(Omnibus):                  0.414   Jarque-Bera (JB):                0.989\n",
              "Skew:                           0.545   Prob(JB):                        0.610\n",
              "Kurtosis:                       2.985   Cond. No.                         41.8\n",
              "==============================================================================\n",
              "\n",
              "Notes:\n",
              "[1] Standard Errors assume that the covariance matrix of the errors is correctly specified.\n",
              "\"\"\""
            ],
            "text/html": [
              "<table class=\"simpletable\">\n",
              "<caption>OLS Regression Results</caption>\n",
              "<tr>\n",
              "  <th>Dep. Variable:</th>       <td>final_test</td>    <th>  R-squared:         </th> <td>   0.782</td>\n",
              "</tr>\n",
              "<tr>\n",
              "  <th>Model:</th>                   <td>OLS</td>       <th>  Adj. R-squared:    </th> <td>   0.724</td>\n",
              "</tr>\n",
              "<tr>\n",
              "  <th>Method:</th>             <td>Least Squares</td>  <th>  F-statistic:       </th> <td>   13.46</td>\n",
              "</tr>\n",
              "<tr>\n",
              "  <th>Date:</th>             <td>Mon, 25 Sep 2023</td> <th>  Prob (F-statistic):</th> <td>7.47e-05</td>\n",
              "</tr>\n",
              "<tr>\n",
              "  <th>Time:</th>                 <td>02:50:13</td>     <th>  Log-Likelihood:    </th> <td> -72.368</td>\n",
              "</tr>\n",
              "<tr>\n",
              "  <th>No. Observations:</th>      <td>    20</td>      <th>  AIC:               </th> <td>   154.7</td>\n",
              "</tr>\n",
              "<tr>\n",
              "  <th>Df Residuals:</th>          <td>    15</td>      <th>  BIC:               </th> <td>   159.7</td>\n",
              "</tr>\n",
              "<tr>\n",
              "  <th>Df Model:</th>              <td>     4</td>      <th>                     </th>     <td> </td>   \n",
              "</tr>\n",
              "<tr>\n",
              "  <th>Covariance Type:</th>      <td>nonrobust</td>    <th>                     </th>     <td> </td>   \n",
              "</tr>\n",
              "</table>\n",
              "<table class=\"simpletable\">\n",
              "<tr>\n",
              "            <td></td>               <th>coef</th>     <th>std err</th>      <th>t</th>      <th>P>|t|</th>  <th>[0.025</th>    <th>0.975]</th>  \n",
              "</tr>\n",
              "<tr>\n",
              "  <th>Intercept</th>             <td>    1.3330</td> <td>   12.434</td> <td>    0.107</td> <td> 0.916</td> <td>  -25.169</td> <td>   27.835</td>\n",
              "</tr>\n",
              "<tr>\n",
              "  <th>school_method[T.bus]</th>  <td>   -1.8118</td> <td>    6.324</td> <td>   -0.286</td> <td> 0.778</td> <td>  -15.292</td> <td>   11.668</td>\n",
              "</tr>\n",
              "<tr>\n",
              "  <th>school_method[T.walk]</th> <td>   -7.6555</td> <td>    6.420</td> <td>   -1.192</td> <td> 0.252</td> <td>  -21.339</td> <td>    6.028</td>\n",
              "</tr>\n",
              "<tr>\n",
              "  <th>quiz</th>                  <td>    6.0029</td> <td>    1.033</td> <td>    5.809</td> <td> 0.000</td> <td>    3.800</td> <td>    8.206</td>\n",
              "</tr>\n",
              "<tr>\n",
              "  <th>sleep_time</th>            <td>    4.5238</td> <td>    1.809</td> <td>    2.501</td> <td> 0.024</td> <td>    0.668</td> <td>    8.380</td>\n",
              "</tr>\n",
              "</table>\n",
              "<table class=\"simpletable\">\n",
              "<tr>\n",
              "  <th>Omnibus:</th>       <td> 1.764</td> <th>  Durbin-Watson:     </th> <td>   1.418</td>\n",
              "</tr>\n",
              "<tr>\n",
              "  <th>Prob(Omnibus):</th> <td> 0.414</td> <th>  Jarque-Bera (JB):  </th> <td>   0.989</td>\n",
              "</tr>\n",
              "<tr>\n",
              "  <th>Skew:</th>          <td> 0.545</td> <th>  Prob(JB):          </th> <td>   0.610</td>\n",
              "</tr>\n",
              "<tr>\n",
              "  <th>Kurtosis:</th>      <td> 2.985</td> <th>  Cond. No.          </th> <td>    41.8</td>\n",
              "</tr>\n",
              "</table><br/><br/>Notes:<br/>[1] Standard Errors assume that the covariance matrix of the errors is correctly specified."
            ],
            "text/latex": "\\begin{center}\n\\begin{tabular}{lclc}\n\\toprule\n\\textbf{Dep. Variable:}         &   final\\_test    & \\textbf{  R-squared:         } &     0.782   \\\\\n\\textbf{Model:}                 &       OLS        & \\textbf{  Adj. R-squared:    } &     0.724   \\\\\n\\textbf{Method:}                &  Least Squares   & \\textbf{  F-statistic:       } &     13.46   \\\\\n\\textbf{Date:}                  & Mon, 25 Sep 2023 & \\textbf{  Prob (F-statistic):} &  7.47e-05   \\\\\n\\textbf{Time:}                  &     02:50:13     & \\textbf{  Log-Likelihood:    } &   -72.368   \\\\\n\\textbf{No. Observations:}      &          20      & \\textbf{  AIC:               } &     154.7   \\\\\n\\textbf{Df Residuals:}          &          15      & \\textbf{  BIC:               } &     159.7   \\\\\n\\textbf{Df Model:}              &           4      & \\textbf{                     } &             \\\\\n\\textbf{Covariance Type:}       &    nonrobust     & \\textbf{                     } &             \\\\\n\\bottomrule\n\\end{tabular}\n\\begin{tabular}{lcccccc}\n                                & \\textbf{coef} & \\textbf{std err} & \\textbf{t} & \\textbf{P$> |$t$|$} & \\textbf{[0.025} & \\textbf{0.975]}  \\\\\n\\midrule\n\\textbf{Intercept}              &       1.3330  &       12.434     &     0.107  &         0.916        &      -25.169    &       27.835     \\\\\n\\textbf{school\\_method[T.bus]}  &      -1.8118  &        6.324     &    -0.286  &         0.778        &      -15.292    &       11.668     \\\\\n\\textbf{school\\_method[T.walk]} &      -7.6555  &        6.420     &    -1.192  &         0.252        &      -21.339    &        6.028     \\\\\n\\textbf{quiz}                   &       6.0029  &        1.033     &     5.809  &         0.000        &        3.800    &        8.206     \\\\\n\\textbf{sleep\\_time}            &       4.5238  &        1.809     &     2.501  &         0.024        &        0.668    &        8.380     \\\\\n\\bottomrule\n\\end{tabular}\n\\begin{tabular}{lclc}\n\\textbf{Omnibus:}       &  1.764 & \\textbf{  Durbin-Watson:     } &    1.418  \\\\\n\\textbf{Prob(Omnibus):} &  0.414 & \\textbf{  Jarque-Bera (JB):  } &    0.989  \\\\\n\\textbf{Skew:}          &  0.545 & \\textbf{  Prob(JB):          } &    0.610  \\\\\n\\textbf{Kurtosis:}      &  2.985 & \\textbf{  Cond. No.          } &     41.8  \\\\\n\\bottomrule\n\\end{tabular}\n%\\caption{OLS Regression Results}\n\\end{center}\n\nNotes: \\newline\n [1] Standard Errors assume that the covariance matrix of the errors is correctly specified."
          },
          "metadata": {},
          "execution_count": 35
        }
      ]
    },
    {
      "cell_type": "code",
      "source": [
        "x = np.array(df['quiz'])\n",
        "y = np.array(df['final_test'])\n",
        "p = 1\n",
        "\n",
        "formula = 'final_test ~ quiz'\n",
        "result = smf.ols(formula, df).fit()\n",
        "result.summary()"
      ],
      "metadata": {
        "colab": {
          "base_uri": "https://localhost:8080/",
          "height": 444
        },
        "id": "n4LPVx26PrcS",
        "outputId": "5c7baa38-1a16-4360-ab13-281b28bd315d"
      },
      "execution_count": 37,
      "outputs": [
        {
          "output_type": "execute_result",
          "data": {
            "text/plain": [
              "<class 'statsmodels.iolib.summary.Summary'>\n",
              "\"\"\"\n",
              "                            OLS Regression Results                            \n",
              "==============================================================================\n",
              "Dep. Variable:             final_test   R-squared:                       0.676\n",
              "Model:                            OLS   Adj. R-squared:                  0.658\n",
              "Method:                 Least Squares   F-statistic:                     37.61\n",
              "Date:                Mon, 25 Sep 2023   Prob (F-statistic):           8.59e-06\n",
              "Time:                        06:35:30   Log-Likelihood:                -76.325\n",
              "No. Observations:                  20   AIC:                             156.7\n",
              "Df Residuals:                      18   BIC:                             158.6\n",
              "Df Model:                           1                                         \n",
              "Covariance Type:            nonrobust                                         \n",
              "==============================================================================\n",
              "                 coef    std err          t      P>|t|      [0.025      0.975]\n",
              "------------------------------------------------------------------------------\n",
              "Intercept     23.6995      4.714      5.028      0.000      13.796      33.603\n",
              "quiz           6.5537      1.069      6.133      0.000       4.309       8.799\n",
              "==============================================================================\n",
              "Omnibus:                        2.139   Durbin-Watson:                   1.478\n",
              "Prob(Omnibus):                  0.343   Jarque-Bera (JB):                1.773\n",
              "Skew:                           0.670   Prob(JB):                        0.412\n",
              "Kurtosis:                       2.422   Cond. No.                         8.32\n",
              "==============================================================================\n",
              "\n",
              "Notes:\n",
              "[1] Standard Errors assume that the covariance matrix of the errors is correctly specified.\n",
              "\"\"\""
            ],
            "text/html": [
              "<table class=\"simpletable\">\n",
              "<caption>OLS Regression Results</caption>\n",
              "<tr>\n",
              "  <th>Dep. Variable:</th>       <td>final_test</td>    <th>  R-squared:         </th> <td>   0.676</td>\n",
              "</tr>\n",
              "<tr>\n",
              "  <th>Model:</th>                   <td>OLS</td>       <th>  Adj. R-squared:    </th> <td>   0.658</td>\n",
              "</tr>\n",
              "<tr>\n",
              "  <th>Method:</th>             <td>Least Squares</td>  <th>  F-statistic:       </th> <td>   37.61</td>\n",
              "</tr>\n",
              "<tr>\n",
              "  <th>Date:</th>             <td>Mon, 25 Sep 2023</td> <th>  Prob (F-statistic):</th> <td>8.59e-06</td>\n",
              "</tr>\n",
              "<tr>\n",
              "  <th>Time:</th>                 <td>06:35:30</td>     <th>  Log-Likelihood:    </th> <td> -76.325</td>\n",
              "</tr>\n",
              "<tr>\n",
              "  <th>No. Observations:</th>      <td>    20</td>      <th>  AIC:               </th> <td>   156.7</td>\n",
              "</tr>\n",
              "<tr>\n",
              "  <th>Df Residuals:</th>          <td>    18</td>      <th>  BIC:               </th> <td>   158.6</td>\n",
              "</tr>\n",
              "<tr>\n",
              "  <th>Df Model:</th>              <td>     1</td>      <th>                     </th>     <td> </td>   \n",
              "</tr>\n",
              "<tr>\n",
              "  <th>Covariance Type:</th>      <td>nonrobust</td>    <th>                     </th>     <td> </td>   \n",
              "</tr>\n",
              "</table>\n",
              "<table class=\"simpletable\">\n",
              "<tr>\n",
              "      <td></td>         <th>coef</th>     <th>std err</th>      <th>t</th>      <th>P>|t|</th>  <th>[0.025</th>    <th>0.975]</th>  \n",
              "</tr>\n",
              "<tr>\n",
              "  <th>Intercept</th> <td>   23.6995</td> <td>    4.714</td> <td>    5.028</td> <td> 0.000</td> <td>   13.796</td> <td>   33.603</td>\n",
              "</tr>\n",
              "<tr>\n",
              "  <th>quiz</th>      <td>    6.5537</td> <td>    1.069</td> <td>    6.133</td> <td> 0.000</td> <td>    4.309</td> <td>    8.799</td>\n",
              "</tr>\n",
              "</table>\n",
              "<table class=\"simpletable\">\n",
              "<tr>\n",
              "  <th>Omnibus:</th>       <td> 2.139</td> <th>  Durbin-Watson:     </th> <td>   1.478</td>\n",
              "</tr>\n",
              "<tr>\n",
              "  <th>Prob(Omnibus):</th> <td> 0.343</td> <th>  Jarque-Bera (JB):  </th> <td>   1.773</td>\n",
              "</tr>\n",
              "<tr>\n",
              "  <th>Skew:</th>          <td> 0.670</td> <th>  Prob(JB):          </th> <td>   0.412</td>\n",
              "</tr>\n",
              "<tr>\n",
              "  <th>Kurtosis:</th>      <td> 2.422</td> <th>  Cond. No.          </th> <td>    8.32</td>\n",
              "</tr>\n",
              "</table><br/><br/>Notes:<br/>[1] Standard Errors assume that the covariance matrix of the errors is correctly specified."
            ],
            "text/latex": "\\begin{center}\n\\begin{tabular}{lclc}\n\\toprule\n\\textbf{Dep. Variable:}    &   final\\_test    & \\textbf{  R-squared:         } &     0.676   \\\\\n\\textbf{Model:}            &       OLS        & \\textbf{  Adj. R-squared:    } &     0.658   \\\\\n\\textbf{Method:}           &  Least Squares   & \\textbf{  F-statistic:       } &     37.61   \\\\\n\\textbf{Date:}             & Mon, 25 Sep 2023 & \\textbf{  Prob (F-statistic):} &  8.59e-06   \\\\\n\\textbf{Time:}             &     06:35:30     & \\textbf{  Log-Likelihood:    } &   -76.325   \\\\\n\\textbf{No. Observations:} &          20      & \\textbf{  AIC:               } &     156.7   \\\\\n\\textbf{Df Residuals:}     &          18      & \\textbf{  BIC:               } &     158.6   \\\\\n\\textbf{Df Model:}         &           1      & \\textbf{                     } &             \\\\\n\\textbf{Covariance Type:}  &    nonrobust     & \\textbf{                     } &             \\\\\n\\bottomrule\n\\end{tabular}\n\\begin{tabular}{lcccccc}\n                   & \\textbf{coef} & \\textbf{std err} & \\textbf{t} & \\textbf{P$> |$t$|$} & \\textbf{[0.025} & \\textbf{0.975]}  \\\\\n\\midrule\n\\textbf{Intercept} &      23.6995  &        4.714     &     5.028  &         0.000        &       13.796    &       33.603     \\\\\n\\textbf{quiz}      &       6.5537  &        1.069     &     6.133  &         0.000        &        4.309    &        8.799     \\\\\n\\bottomrule\n\\end{tabular}\n\\begin{tabular}{lclc}\n\\textbf{Omnibus:}       &  2.139 & \\textbf{  Durbin-Watson:     } &    1.478  \\\\\n\\textbf{Prob(Omnibus):} &  0.343 & \\textbf{  Jarque-Bera (JB):  } &    1.773  \\\\\n\\textbf{Skew:}          &  0.670 & \\textbf{  Prob(JB):          } &    0.412  \\\\\n\\textbf{Kurtosis:}      &  2.422 & \\textbf{  Cond. No.          } &     8.32  \\\\\n\\bottomrule\n\\end{tabular}\n%\\caption{OLS Regression Results}\n\\end{center}\n\nNotes: \\newline\n [1] Standard Errors assume that the covariance matrix of the errors is correctly specified."
          },
          "metadata": {},
          "execution_count": 37
        }
      ]
    },
    {
      "cell_type": "code",
      "source": [
        "y_hat = np.array(result.fittedvalues)\n",
        "y_hat"
      ],
      "metadata": {
        "colab": {
          "base_uri": "https://localhost:8080/"
        },
        "id": "ClBqWCRADPko",
        "outputId": "bb11ee67-5e51-4b46-98dd-200547eed3cc"
      },
      "execution_count": 38,
      "outputs": [
        {
          "output_type": "execute_result",
          "data": {
            "text/plain": [
              "array([51.225, 70.886, 23.699, 43.361, 33.53 , 29.598, 36.152, 46.638,\n",
              "       49.914, 59.09 , 51.225, 68.92 , 36.807, 81.372, 25.666, 67.61 ,\n",
              "       51.225, 60.4  , 32.875, 36.807])"
            ]
          },
          "metadata": {},
          "execution_count": 38
        }
      ]
    },
    {
      "cell_type": "code",
      "source": [
        "eps_hat = np.array(result.resid)\n",
        "eps_hat"
      ],
      "metadata": {
        "colab": {
          "base_uri": "https://localhost:8080/"
        },
        "id": "bizwZQLvDX4I",
        "outputId": "921b7f3e-5627-41f7-c78d-973e183dc329"
      },
      "execution_count": 39,
      "outputs": [
        {
          "output_type": "execute_result",
          "data": {
            "text/plain": [
              "array([ 15.775,   0.114,  -4.699,  -8.361,   1.47 ,  10.402, -13.152,\n",
              "        -9.638, -10.914,  -4.09 , -11.225,   1.08 ,  -7.807,   6.628,\n",
              "        21.334,   9.39 ,   0.775,  -5.4  , -14.875,  23.193])"
            ]
          },
          "metadata": {},
          "execution_count": 39
        }
      ]
    },
    {
      "cell_type": "code",
      "source": [
        "np.sum(eps_hat**2)"
      ],
      "metadata": {
        "colab": {
          "base_uri": "https://localhost:8080/"
        },
        "id": "5iOU_qdXDcWI",
        "outputId": "63a95bb9-8865-47f7-c554-f94ecc9e84cc"
      },
      "execution_count": 40,
      "outputs": [
        {
          "output_type": "execute_result",
          "data": {
            "text/plain": [
              "2417.2278252292617"
            ]
          },
          "metadata": {},
          "execution_count": 40
        }
      ]
    },
    {
      "cell_type": "code",
      "source": [
        "total_var = np.sum((y - np.mean(y))**2)\n",
        "exp_var = np.sum((y_hat - np.mean(y))**2)\n",
        "unexp_var = np.sum(eps_hat ** 2)"
      ],
      "metadata": {
        "id": "qJeSTj0pDg6X"
      },
      "execution_count": 41,
      "outputs": []
    },
    {
      "cell_type": "code",
      "source": [
        "total_var, exp_var + unexp_var"
      ],
      "metadata": {
        "colab": {
          "base_uri": "https://localhost:8080/"
        },
        "id": "bNKdrtVdECek",
        "outputId": "09ddd55a-3354-49e4-970f-1900d4fe2ba5"
      },
      "execution_count": 42,
      "outputs": [
        {
          "output_type": "execute_result",
          "data": {
            "text/plain": [
              "(7468.55, 7468.549999999996)"
            ]
          },
          "metadata": {},
          "execution_count": 42
        }
      ]
    },
    {
      "cell_type": "code",
      "source": [
        "exp_var / total_var"
      ],
      "metadata": {
        "colab": {
          "base_uri": "https://localhost:8080/"
        },
        "id": "8F2QW24mEGmx",
        "outputId": "3401b66d-b0ea-4bc4-ec11-1438c4566958"
      },
      "execution_count": 43,
      "outputs": [
        {
          "output_type": "execute_result",
          "data": {
            "text/plain": [
              "0.6763457665504996"
            ]
          },
          "metadata": {},
          "execution_count": 43
        }
      ]
    },
    {
      "cell_type": "code",
      "source": [
        "np.corrcoef(x,y)[0,1] ** 2"
      ],
      "metadata": {
        "colab": {
          "base_uri": "https://localhost:8080/"
        },
        "id": "q433xSgpEH0b",
        "outputId": "c2347369-4b45-47a6-950e-45dc0f65ed40"
      },
      "execution_count": 44,
      "outputs": [
        {
          "output_type": "execute_result",
          "data": {
            "text/plain": [
              "0.6763457665504998"
            ]
          },
          "metadata": {},
          "execution_count": 44
        }
      ]
    },
    {
      "cell_type": "code",
      "source": [
        "1 - (unexp_var / (n - p - 1)) / (total_var / (n-1))"
      ],
      "metadata": {
        "colab": {
          "base_uri": "https://localhost:8080/"
        },
        "id": "ypTJ4NpfELXQ",
        "outputId": "7b0c9971-dac3-4009-ae5a-985fc93b444d"
      },
      "execution_count": 45,
      "outputs": [
        {
          "output_type": "execute_result",
          "data": {
            "text/plain": [
              "0.6583649758033058"
            ]
          },
          "metadata": {},
          "execution_count": 45
        }
      ]
    },
    {
      "cell_type": "code",
      "source": [
        "f = (exp_var / p) / (unexp_var / (n-p-1))\n",
        "f"
      ],
      "metadata": {
        "colab": {
          "base_uri": "https://localhost:8080/"
        },
        "id": "WouLfDFIE51z",
        "outputId": "680bc60d-ee30-487c-e6ec-3926ac76a0cd"
      },
      "execution_count": 46,
      "outputs": [
        {
          "output_type": "execute_result",
          "data": {
            "text/plain": [
              "37.61490671126523"
            ]
          },
          "metadata": {},
          "execution_count": 46
        }
      ]
    },
    {
      "cell_type": "code",
      "source": [
        "rv = stats.f(p, n-p-1)\n",
        "1 - rv.cdf(f)"
      ],
      "metadata": {
        "colab": {
          "base_uri": "https://localhost:8080/"
        },
        "id": "NIiL2X1BFTnB",
        "outputId": "9a53bc4e-2add-4ae5-ce38-e9585acf7b75"
      },
      "execution_count": 47,
      "outputs": [
        {
          "output_type": "execute_result",
          "data": {
            "text/plain": [
              "8.590875866687497e-06"
            ]
          },
          "metadata": {},
          "execution_count": 47
        }
      ]
    },
    {
      "cell_type": "code",
      "source": [
        "prob = 0.3\n",
        "coin_result = [0,1,0,0,1]\n",
        "\n",
        "rv = stats.bernoulli(prob)\n",
        "L = np.prod(rv.pmf(coin_result))\n",
        "L"
      ],
      "metadata": {
        "colab": {
          "base_uri": "https://localhost:8080/"
        },
        "id": "QrnBl47jFXV-",
        "outputId": "e75d34d0-4b26-4882-da25-6dc1612b3ca0"
      },
      "execution_count": 48,
      "outputs": [
        {
          "output_type": "execute_result",
          "data": {
            "text/plain": [
              "0.030870000000000022"
            ]
          },
          "metadata": {},
          "execution_count": 48
        }
      ]
    },
    {
      "cell_type": "code",
      "source": [
        "ps = np.linspace(0, 1, 100)\n",
        "Ls = [np.prod(stats.bernoulli(prob).pmf(coin_result)) for prob in ps]\n",
        "fig = plt.figure(figsize=(10,6))\n",
        "ax = fig.add_subplot(111)\n",
        "ax.plot(ps, Ls, label='likelihood function', color='gray')\n",
        "ax.legend(fontsize=16)\n",
        "plt.show()"
      ],
      "metadata": {
        "colab": {
          "base_uri": "https://localhost:8080/",
          "height": 522
        },
        "id": "EdBJ64A1FzYh",
        "outputId": "31c9b0cd-b2cc-4ac8-ae45-a137cc2436de"
      },
      "execution_count": 49,
      "outputs": [
        {
          "output_type": "display_data",
          "data": {
            "text/plain": [
              "<Figure size 1000x600 with 1 Axes>"
            ],
            "image/png": "[encoded data removed]"
          },
          "metadata": {}
        }
      ]
    },
    {
      "cell_type": "code",
      "source": [
        "prob = 0.4\n",
        "rv = stats.bernoulli(prob)\n",
        "mll = np.sum(np.log(rv.pmf([0,1,0,0,1])))\n",
        "mll"
      ],
      "metadata": {
        "colab": {
          "base_uri": "https://localhost:8080/"
        },
        "id": "z-TE0wbSGL9O",
        "outputId": "a7cd5a35-f60f-4aa5-9915-af47b953ca27"
      },
      "execution_count": 50,
      "outputs": [
        {
          "output_type": "execute_result",
          "data": {
            "text/plain": [
              "-3.365058335046282"
            ]
          },
          "metadata": {},
          "execution_count": 50
        }
      ]
    },
    {
      "cell_type": "code",
      "source": [
        "rv = stats.norm(y_hat, np.sqrt(unexp_var / n))\n",
        "mll = np.sum(np.log(rv.pdf(y)))\n",
        "mll"
      ],
      "metadata": {
        "colab": {
          "base_uri": "https://localhost:8080/"
        },
        "id": "q0hKKAFFGpX9",
        "outputId": "d9bd1940-933d-41d8-a1c5-3f78b1229511"
      },
      "execution_count": 51,
      "outputs": [
        {
          "output_type": "execute_result",
          "data": {
            "text/plain": [
              "-76.32521428624038"
            ]
          },
          "metadata": {},
          "execution_count": 51
        }
      ]
    },
    {
      "cell_type": "code",
      "source": [
        "aic = -2 * mll + 2 * (p+1)\n",
        "aic"
      ],
      "metadata": {
        "colab": {
          "base_uri": "https://localhost:8080/"
        },
        "id": "yP1HT3AyG7yN",
        "outputId": "b42b6a56-36fe-4267-ec26-f57c8137f8f5"
      },
      "execution_count": 52,
      "outputs": [
        {
          "output_type": "execute_result",
          "data": {
            "text/plain": [
              "156.65042857248076"
            ]
          },
          "metadata": {},
          "execution_count": 52
        }
      ]
    },
    {
      "cell_type": "code",
      "source": [
        "bic = -2 * mll + np.log(n) * (p+1)\n",
        "bic"
      ],
      "metadata": {
        "colab": {
          "base_uri": "https://localhost:8080/"
        },
        "id": "ns5atzWIHKAS",
        "outputId": "f6ab79b8-07c1-46bc-bb82-b80dd787c5ce"
      },
      "execution_count": 53,
      "outputs": [
        {
          "output_type": "execute_result",
          "data": {
            "text/plain": [
              "158.64189311958876"
            ]
          },
          "metadata": {},
          "execution_count": 53
        }
      ]
    },
    {
      "cell_type": "code",
      "source": [
        "formula = 'final_test ~ quiz + sleep_time'\n",
        "result = smf.ols(formula, df).fit()\n",
        "result.summary()"
      ],
      "metadata": {
        "colab": {
          "base_uri": "https://localhost:8080/",
          "height": 465
        },
        "id": "16C3-68DHSf5",
        "outputId": "ea051cc0-525a-4e75-c1b2-0f623d85d969"
      },
      "execution_count": 54,
      "outputs": [
        {
          "output_type": "execute_result",
          "data": {
            "text/plain": [
              "<class 'statsmodels.iolib.summary.Summary'>\n",
              "\"\"\"\n",
              "                            OLS Regression Results                            \n",
              "==============================================================================\n",
              "Dep. Variable:             final_test   R-squared:                       0.756\n",
              "Model:                            OLS   Adj. R-squared:                  0.727\n",
              "Method:                 Least Squares   F-statistic:                     26.35\n",
              "Date:                Mon, 25 Sep 2023   Prob (F-statistic):           6.19e-06\n",
              "Time:                        06:55:07   Log-Likelihood:                -73.497\n",
              "No. Observations:                  20   AIC:                             153.0\n",
              "Df Residuals:                      17   BIC:                             156.0\n",
              "Df Model:                           2                                         \n",
              "Covariance Type:            nonrobust                                         \n",
              "==============================================================================\n",
              "                 coef    std err          t      P>|t|      [0.025      0.975]\n",
              "------------------------------------------------------------------------------\n",
              "Intercept     -1.8709     11.635     -0.161      0.874     -26.420      22.678\n",
              "quiz           6.4289      0.956      6.725      0.000       4.412       8.446\n",
              "sleep_time     4.1917      1.778      2.357      0.031       0.440       7.943\n",
              "==============================================================================\n",
              "Omnibus:                        2.073   Durbin-Watson:                   1.508\n",
              "Prob(Omnibus):                  0.355   Jarque-Bera (JB):                1.716\n",
              "Skew:                           0.660   Prob(JB):                        0.424\n",
              "Kurtosis:                       2.437   Cond. No.                         38.0\n",
              "==============================================================================\n",
              "\n",
              "Notes:\n",
              "[1] Standard Errors assume that the covariance matrix of the errors is correctly specified.\n",
              "\"\"\""
            ],
            "text/html": [
              "<table class=\"simpletable\">\n",
              "<caption>OLS Regression Results</caption>\n",
              "<tr>\n",
              "  <th>Dep. Variable:</th>       <td>final_test</td>    <th>  R-squared:         </th> <td>   0.756</td>\n",
              "</tr>\n",
              "<tr>\n",
              "  <th>Model:</th>                   <td>OLS</td>       <th>  Adj. R-squared:    </th> <td>   0.727</td>\n",
              "</tr>\n",
              "<tr>\n",
              "  <th>Method:</th>             <td>Least Squares</td>  <th>  F-statistic:       </th> <td>   26.35</td>\n",
              "</tr>\n",
              "<tr>\n",
              "  <th>Date:</th>             <td>Mon, 25 Sep 2023</td> <th>  Prob (F-statistic):</th> <td>6.19e-06</td>\n",
              "</tr>\n",
              "<tr>\n",
              "  <th>Time:</th>                 <td>06:55:07</td>     <th>  Log-Likelihood:    </th> <td> -73.497</td>\n",
              "</tr>\n",
              "<tr>\n",
              "  <th>No. Observations:</th>      <td>    20</td>      <th>  AIC:               </th> <td>   153.0</td>\n",
              "</tr>\n",
              "<tr>\n",
              "  <th>Df Residuals:</th>          <td>    17</td>      <th>  BIC:               </th> <td>   156.0</td>\n",
              "</tr>\n",
              "<tr>\n",
              "  <th>Df Model:</th>              <td>     2</td>      <th>                     </th>     <td> </td>   \n",
              "</tr>\n",
              "<tr>\n",
              "  <th>Covariance Type:</th>      <td>nonrobust</td>    <th>                     </th>     <td> </td>   \n",
              "</tr>\n",
              "</table>\n",
              "<table class=\"simpletable\">\n",
              "<tr>\n",
              "       <td></td>         <th>coef</th>     <th>std err</th>      <th>t</th>      <th>P>|t|</th>  <th>[0.025</th>    <th>0.975]</th>  \n",
              "</tr>\n",
              "<tr>\n",
              "  <th>Intercept</th>  <td>   -1.8709</td> <td>   11.635</td> <td>   -0.161</td> <td> 0.874</td> <td>  -26.420</td> <td>   22.678</td>\n",
              "</tr>\n",
              "<tr>\n",
              "  <th>quiz</th>       <td>    6.4289</td> <td>    0.956</td> <td>    6.725</td> <td> 0.000</td> <td>    4.412</td> <td>    8.446</td>\n",
              "</tr>\n",
              "<tr>\n",
              "  <th>sleep_time</th> <td>    4.1917</td> <td>    1.778</td> <td>    2.357</td> <td> 0.031</td> <td>    0.440</td> <td>    7.943</td>\n",
              "</tr>\n",
              "</table>\n",
              "<table class=\"simpletable\">\n",
              "<tr>\n",
              "  <th>Omnibus:</th>       <td> 2.073</td> <th>  Durbin-Watson:     </th> <td>   1.508</td>\n",
              "</tr>\n",
              "<tr>\n",
              "  <th>Prob(Omnibus):</th> <td> 0.355</td> <th>  Jarque-Bera (JB):  </th> <td>   1.716</td>\n",
              "</tr>\n",
              "<tr>\n",
              "  <th>Skew:</th>          <td> 0.660</td> <th>  Prob(JB):          </th> <td>   0.424</td>\n",
              "</tr>\n",
              "<tr>\n",
              "  <th>Kurtosis:</th>      <td> 2.437</td> <th>  Cond. No.          </th> <td>    38.0</td>\n",
              "</tr>\n",
              "</table><br/><br/>Notes:<br/>[1] Standard Errors assume that the covariance matrix of the errors is correctly specified."
            ],
            "text/latex": "\\begin{center}\n\\begin{tabular}{lclc}\n\\toprule\n\\textbf{Dep. Variable:}    &   final\\_test    & \\textbf{  R-squared:         } &     0.756   \\\\\n\\textbf{Model:}            &       OLS        & \\textbf{  Adj. R-squared:    } &     0.727   \\\\\n\\textbf{Method:}           &  Least Squares   & \\textbf{  F-statistic:       } &     26.35   \\\\\n\\textbf{Date:}             & Mon, 25 Sep 2023 & \\textbf{  Prob (F-statistic):} &  6.19e-06   \\\\\n\\textbf{Time:}             &     06:55:07     & \\textbf{  Log-Likelihood:    } &   -73.497   \\\\\n\\textbf{No. Observations:} &          20      & \\textbf{  AIC:               } &     153.0   \\\\\n\\textbf{Df Residuals:}     &          17      & \\textbf{  BIC:               } &     156.0   \\\\\n\\textbf{Df Model:}         &           2      & \\textbf{                     } &             \\\\\n\\textbf{Covariance Type:}  &    nonrobust     & \\textbf{                     } &             \\\\\n\\bottomrule\n\\end{tabular}\n\\begin{tabular}{lcccccc}\n                     & \\textbf{coef} & \\textbf{std err} & \\textbf{t} & \\textbf{P$> |$t$|$} & \\textbf{[0.025} & \\textbf{0.975]}  \\\\\n\\midrule\n\\textbf{Intercept}   &      -1.8709  &       11.635     &    -0.161  &         0.874        &      -26.420    &       22.678     \\\\\n\\textbf{quiz}        &       6.4289  &        0.956     &     6.725  &         0.000        &        4.412    &        8.446     \\\\\n\\textbf{sleep\\_time} &       4.1917  &        1.778     &     2.357  &         0.031        &        0.440    &        7.943     \\\\\n\\bottomrule\n\\end{tabular}\n\\begin{tabular}{lclc}\n\\textbf{Omnibus:}       &  2.073 & \\textbf{  Durbin-Watson:     } &    1.508  \\\\\n\\textbf{Prob(Omnibus):} &  0.355 & \\textbf{  Jarque-Bera (JB):  } &    1.716  \\\\\n\\textbf{Skew:}          &  0.660 & \\textbf{  Prob(JB):          } &    0.424  \\\\\n\\textbf{Kurtosis:}      &  2.437 & \\textbf{  Cond. No.          } &     38.0  \\\\\n\\bottomrule\n\\end{tabular}\n%\\caption{OLS Regression Results}\n\\end{center}\n\nNotes: \\newline\n [1] Standard Errors assume that the covariance matrix of the errors is correctly specified."
          },
          "metadata": {},
          "execution_count": 54
        }
      ]
    },
    {
      "cell_type": "code",
      "source": [
        "eps_hat = np.array(result.resid)"
      ],
      "metadata": {
        "id": "tRJuKaQIHu5l"
      },
      "execution_count": 55,
      "outputs": []
    },
    {
      "cell_type": "code",
      "source": [
        "stats.skew(eps_hat)"
      ],
      "metadata": {
        "colab": {
          "base_uri": "https://localhost:8080/"
        },
        "id": "HB6nmHiuH0Hq",
        "outputId": "b40d65b0-cc7a-498a-94cb-19b174f1c96b"
      },
      "execution_count": 56,
      "outputs": [
        {
          "output_type": "execute_result",
          "data": {
            "text/plain": [
              "0.6599489486177468"
            ]
          },
          "metadata": {},
          "execution_count": 56
        }
      ]
    },
    {
      "cell_type": "code",
      "source": [
        "stats.kurtosis(eps_hat, fisher=False)"
      ],
      "metadata": {
        "colab": {
          "base_uri": "https://localhost:8080/"
        },
        "id": "7lg7T2JMIBiF",
        "outputId": "276f3888-88a6-4be7-c5e4-d2c5f47408a5"
      },
      "execution_count": 57,
      "outputs": [
        {
          "output_type": "execute_result",
          "data": {
            "text/plain": [
              "2.4365833256763016"
            ]
          },
          "metadata": {},
          "execution_count": 57
        }
      ]
    },
    {
      "cell_type": "code",
      "source": [
        "np.sum(np.diff(eps_hat, 1) ** 2) / np.sum(eps_hat ** 2)"
      ],
      "metadata": {
        "colab": {
          "base_uri": "https://localhost:8080/"
        },
        "id": "kjJFJZN1IKqn",
        "outputId": "e6f2cb8d-51a5-44f0-a49d-a2816a260715"
      },
      "execution_count": 58,
      "outputs": [
        {
          "output_type": "execute_result",
          "data": {
            "text/plain": [
              "1.508218526442302"
            ]
          },
          "metadata": {},
          "execution_count": 58
        }
      ]
    },
    {
      "cell_type": "code",
      "source": [
        "df['mid_test'] = df['quiz'] * 2\n",
        "df.head()"
      ],
      "metadata": {
        "colab": {
          "base_uri": "https://localhost:8080/",
          "height": 206
        },
        "id": "ahraFB-pISF_",
        "outputId": "8b794237-c689-42f0-ed66-d47543483000"
      },
      "execution_count": 59,
      "outputs": [
        {
          "output_type": "execute_result",
          "data": {
            "text/plain": [
              "   quiz  final_test  sleep_time school_method  mid_test\n",
              "0   4.2          67         7.2           bus       8.4\n",
              "1   7.2          71         7.9       bicycle      14.4\n",
              "2   0.0          19         5.3           bus       0.0\n",
              "3   3.0          35         6.8          walk       6.0\n",
              "4   1.5          35         7.5          walk       3.0"
            ],
            "text/html": [
              "\n",
              "  <div id=\"df-dd79aba6-53e2-4cc4-9ade-39182bb570fb\" class=\"colab-df-container\">\n",
              "    <div>\n",
              "<style scoped>\n",
              "    .dataframe tbody tr th:only-of-type {\n",
              "        vertical-align: middle;\n",
              "    }\n",
              "\n",
              "    .dataframe tbody tr th {\n",
              "        vertical-align: top;\n",
              "    }\n",
              "\n",
              "    .dataframe thead th {\n",
              "        text-align: right;\n",
              "    }\n",
              "</style>\n",
              "<table border=\"1\" class=\"dataframe\">\n",
              "  <thead>\n",
              "    <tr style=\"text-align: right;\">\n",
              "      <th></th>\n",
              "      <th>quiz</th>\n",
              "      <th>final_test</th>\n",
              "      <th>sleep_time</th>\n",
              "      <th>school_method</th>\n",
              "      <th>mid_test</th>\n",
              "    </tr>\n",
              "  </thead>\n",
              "  <tbody>\n",
              "    <tr>\n",
              "      <th>0</th>\n",
              "      <td>4.2</td>\n",
              "      <td>67</td>\n",
              "      <td>7.2</td>\n",
              "      <td>bus</td>\n",
              "      <td>8.4</td>\n",
              "    </tr>\n",
              "    <tr>\n",
              "      <th>1</th>\n",
              "      <td>7.2</td>\n",
              "      <td>71</td>\n",
              "      <td>7.9</td>\n",
              "      <td>bicycle</td>\n",
              "      <td>14.4</td>\n",
              "    </tr>\n",
              "    <tr>\n",
              "      <th>2</th>\n",
              "      <td>0.0</td>\n",
              "      <td>19</td>\n",
              "      <td>5.3</td>\n",
              "      <td>bus</td>\n",
              "      <td>0.0</td>\n",
              "    </tr>\n",
              "    <tr>\n",
              "      <th>3</th>\n",
              "      <td>3.0</td>\n",
              "      <td>35</td>\n",
              "      <td>6.8</td>\n",
              "      <td>walk</td>\n",
              "      <td>6.0</td>\n",
              "    </tr>\n",
              "    <tr>\n",
              "      <th>4</th>\n",
              "      <td>1.5</td>\n",
              "      <td>35</td>\n",
              "      <td>7.5</td>\n",
              "      <td>walk</td>\n",
              "      <td>3.0</td>\n",
              "    </tr>\n",
              "  </tbody>\n",
              "</table>\n",
              "</div>\n",
              "    <div class=\"colab-df-buttons\">\n",
              "\n",
              "  <div class=\"colab-df-container\">\n",
              "    <button class=\"colab-df-convert\" onclick=\"convertToInteractive('df-dd79aba6-53e2-4cc4-9ade-39182bb570fb')\"\n",
              "            title=\"Convert this dataframe to an interactive table.\"\n",
              "            style=\"display:none;\">\n",
              "\n",
              "  <svg xmlns=\"http://www.w3.org/2000/svg\" height=\"24px\" viewBox=\"0 -960 960 960\">\n",
              "    <path d=\"M120-120v-720h720v720H120Zm60-500h600v-160H180v160Zm220 220h160v-160H400v160Zm0 220h160v-160H400v160ZM180-400h160v-160H180v160Zm440 0h160v-160H620v160ZM180-180h160v-160H180v160Zm440 0h160v-160H620v160Z\"/>\n",
              "  </svg>\n",
              "    </button>\n",
              "\n",
              "  <style>\n",
              "    .colab-df-container {\n",
              "      display:flex;\n",
              "      gap: 12px;\n",
              "    }\n",
              "\n",
              "    .colab-df-convert {\n",
              "      background-color: #E8F0FE;\n",
              "      border: none;\n",
              "      border-radius: 50%;\n",
              "      cursor: pointer;\n",
              "      display: none;\n",
              "      fill: #1967D2;\n",
              "      height: 32px;\n",
              "      padding: 0 0 0 0;\n",
              "      width: 32px;\n",
              "    }\n",
              "\n",
              "    .colab-df-convert:hover {\n",
              "      background-color: #E2EBFA;\n",
              "      box-shadow: 0px 1px 2px rgba(60, 64, 67, 0.3), 0px 1px 3px 1px rgba(60, 64, 67, 0.15);\n",
              "      fill: #174EA6;\n",
              "    }\n",
              "\n",
              "    .colab-df-buttons div {\n",
              "      margin-bottom: 4px;\n",
              "    }\n",
              "\n",
              "    [theme=dark] .colab-df-convert {\n",
              "      background-color: #3B4455;\n",
              "      fill: #D2E3FC;\n",
              "    }\n",
              "\n",
              "    [theme=dark] .colab-df-convert:hover {\n",
              "      background-color: #434B5C;\n",
              "      box-shadow: 0px 1px 3px 1px rgba(0, 0, 0, 0.15);\n",
              "      filter: drop-shadow(0px 1px 2px rgba(0, 0, 0, 0.3));\n",
              "      fill: #FFFFFF;\n",
              "    }\n",
              "  </style>\n",
              "\n",
              "    <script>\n",
              "      const buttonEl =\n",
              "        document.querySelector('#df-dd79aba6-53e2-4cc4-9ade-39182bb570fb button.colab-df-convert');\n",
              "      buttonEl.style.display =\n",
              "        google.colab.kernel.accessAllowed ? 'block' : 'none';\n",
              "\n",
              "      async function convertToInteractive(key) {\n",
              "        const element = document.querySelector('#df-dd79aba6-53e2-4cc4-9ade-39182bb570fb');\n",
              "        const dataTable =\n",
              "          await google.colab.kernel.invokeFunction('convertToInteractive',\n",
              "                                                    [key], {});\n",
              "        if (!dataTable) return;\n",
              "\n",
              "        const docLinkHtml = 'Like what you see? Visit the ' +\n",
              "          '<a target=\"_blank\" href=https://colab.research.google.com/notebooks/data_table.ipynb>data table notebook</a>'\n",
              "          + ' to learn more about interactive tables.';\n",
              "        element.innerHTML = '';\n",
              "        dataTable['output_type'] = 'display_data';\n",
              "        await google.colab.output.renderOutput(dataTable, element);\n",
              "        const docLink = document.createElement('div');\n",
              "        docLink.innerHTML = docLinkHtml;\n",
              "        element.appendChild(docLink);\n",
              "      }\n",
              "    </script>\n",
              "  </div>\n",
              "\n",
              "\n",
              "<div id=\"df-b6b940c1-b94d-45f8-84bc-84b6057d05b7\">\n",
              "  <button class=\"colab-df-quickchart\" onclick=\"quickchart('df-b6b940c1-b94d-45f8-84bc-84b6057d05b7')\"\n",
              "            title=\"Suggest charts.\"\n",
              "            style=\"display:none;\">\n",
              "\n",
              "<svg xmlns=\"http://www.w3.org/2000/svg\" height=\"24px\"viewBox=\"0 0 24 24\"\n",
              "     width=\"24px\">\n",
              "    <g>\n",
              "        <path d=\"M19 3H5c-1.1 0-2 .9-2 2v14c0 1.1.9 2 2 2h14c1.1 0 2-.9 2-2V5c0-1.1-.9-2-2-2zM9 17H7v-7h2v7zm4 0h-2V7h2v10zm4 0h-2v-4h2v4z\"/>\n",
              "    </g>\n",
              "</svg>\n",
              "  </button>\n",
              "\n",
              "<style>\n",
              "  .colab-df-quickchart {\n",
              "      --bg-color: #E8F0FE;\n",
              "      --fill-color: #1967D2;\n",
              "      --hover-bg-color: #E2EBFA;\n",
              "      --hover-fill-color: #174EA6;\n",
              "      --disabled-fill-color: #AAA;\n",
              "      --disabled-bg-color: #DDD;\n",
              "  }\n",
              "\n",
              "  [theme=dark] .colab-df-quickchart {\n",
              "      --bg-color: #3B4455;\n",
              "      --fill-color: #D2E3FC;\n",
              "      --hover-bg-color: #434B5C;\n",
              "      --hover-fill-color: #FFFFFF;\n",
              "      --disabled-bg-color: #3B4455;\n",
              "      --disabled-fill-color: #666;\n",
              "  }\n",
              "\n",
              "  .colab-df-quickchart {\n",
              "    background-color: var(--bg-color);\n",
              "    border: none;\n",
              "    border-radius: 50%;\n",
              "    cursor: pointer;\n",
              "    display: none;\n",
              "    fill: var(--fill-color);\n",
              "    height: 32px;\n",
              "    padding: 0;\n",
              "    width: 32px;\n",
              "  }\n",
              "\n",
              "  .colab-df-quickchart:hover {\n",
              "    background-color: var(--hover-bg-color);\n",
              "    box-shadow: 0 1px 2px rgba(60, 64, 67, 0.3), 0 1px 3px 1px rgba(60, 64, 67, 0.15);\n",
              "    fill: var(--button-hover-fill-color);\n",
              "  }\n",
              "\n",
              "  .colab-df-quickchart-complete:disabled,\n",
              "  .colab-df-quickchart-complete:disabled:hover {\n",
              "    background-color: var(--disabled-bg-color);\n",
              "    fill: var(--disabled-fill-color);\n",
              "    box-shadow: none;\n",
              "  }\n",
              "\n",
              "  .colab-df-spinner {\n",
              "    border: 2px solid var(--fill-color);\n",
              "    border-color: transparent;\n",
              "    border-bottom-color: var(--fill-color);\n",
              "    animation:\n",
              "      spin 1s steps(1) infinite;\n",
              "  }\n",
              "\n",
              "  @keyframes spin {\n",
              "    0% {\n",
              "      border-color: transparent;\n",
              "      border-bottom-color: var(--fill-color);\n",
              "      border-left-color: var(--fill-color);\n",
              "    }\n",
              "    20% {\n",
              "      border-color: transparent;\n",
              "      border-left-color: var(--fill-color);\n",
              "      border-top-color: var(--fill-color);\n",
              "    }\n",
              "    30% {\n",
              "      border-color: transparent;\n",
              "      border-left-color: var(--fill-color);\n",
              "      border-top-color: var(--fill-color);\n",
              "      border-right-color: var(--fill-color);\n",
              "    }\n",
              "    40% {\n",
              "      border-color: transparent;\n",
              "      border-right-color: var(--fill-color);\n",
              "      border-top-color: var(--fill-color);\n",
              "    }\n",
              "    60% {\n",
              "      border-color: transparent;\n",
              "      border-right-color: var(--fill-color);\n",
              "    }\n",
              "    80% {\n",
              "      border-color: transparent;\n",
              "      border-right-color: var(--fill-color);\n",
              "      border-bottom-color: var(--fill-color);\n",
              "    }\n",
              "    90% {\n",
              "      border-color: transparent;\n",
              "      border-bottom-color: var(--fill-color);\n",
              "    }\n",
              "  }\n",
              "</style>\n",
              "\n",
              "  <script>\n",
              "    async function quickchart(key) {\n",
              "      const quickchartButtonEl =\n",
              "        document.querySelector('#' + key + ' button');\n",
              "      quickchartButtonEl.disabled = true;  // To prevent multiple clicks.\n",
              "      quickchartButtonEl.classList.add('colab-df-spinner');\n",
              "      try {\n",
              "        const charts = await google.colab.kernel.invokeFunction(\n",
              "            'suggestCharts', [key], {});\n",
              "      } catch (error) {\n",
              "        console.error('Error during call to suggestCharts:', error);\n",
              "      }\n",
              "      quickchartButtonEl.classList.remove('colab-df-spinner');\n",
              "      quickchartButtonEl.classList.add('colab-df-quickchart-complete');\n",
              "    }\n",
              "    (() => {\n",
              "      let quickchartButtonEl =\n",
              "        document.querySelector('#df-b6b940c1-b94d-45f8-84bc-84b6057d05b7 button');\n",
              "      quickchartButtonEl.style.display =\n",
              "        google.colab.kernel.accessAllowed ? 'block' : 'none';\n",
              "    })();\n",
              "  </script>\n",
              "</div>\n",
              "    </div>\n",
              "  </div>\n"
            ]
          },
          "metadata": {},
          "execution_count": 59
        }
      ]
    },
    {
      "cell_type": "code",
      "source": [
        "formula = 'final_test ~ quiz + mid_test'\n",
        "result = smf.ols(formula, df).fit()\n",
        "result.summary()"
      ],
      "metadata": {
        "colab": {
          "base_uri": "https://localhost:8080/",
          "height": 499
        },
        "id": "Vc4MltSrIeb2",
        "outputId": "234c6a86-65f3-496a-e051-7bff7a31f9d9"
      },
      "execution_count": 60,
      "outputs": [
        {
          "output_type": "execute_result",
          "data": {
            "text/plain": [
              "<class 'statsmodels.iolib.summary.Summary'>\n",
              "\"\"\"\n",
              "                            OLS Regression Results                            \n",
              "==============================================================================\n",
              "Dep. Variable:             final_test   R-squared:                       0.676\n",
              "Model:                            OLS   Adj. R-squared:                  0.658\n",
              "Method:                 Least Squares   F-statistic:                     37.61\n",
              "Date:                Mon, 25 Sep 2023   Prob (F-statistic):           8.59e-06\n",
              "Time:                        06:58:51   Log-Likelihood:                -76.325\n",
              "No. Observations:                  20   AIC:                             156.7\n",
              "Df Residuals:                      18   BIC:                             158.6\n",
              "Df Model:                           1                                         \n",
              "Covariance Type:            nonrobust                                         \n",
              "==============================================================================\n",
              "                 coef    std err          t      P>|t|      [0.025      0.975]\n",
              "------------------------------------------------------------------------------\n",
              "Intercept     23.6995      4.714      5.028      0.000      13.796      33.603\n",
              "quiz           1.3107      0.214      6.133      0.000       0.862       1.760\n",
              "mid_test       2.6215      0.427      6.133      0.000       1.723       3.519\n",
              "==============================================================================\n",
              "Omnibus:                        2.139   Durbin-Watson:                   1.478\n",
              "Prob(Omnibus):                  0.343   Jarque-Bera (JB):                1.773\n",
              "Skew:                           0.670   Prob(JB):                        0.412\n",
              "Kurtosis:                       2.422   Cond. No.                     1.09e+17\n",
              "==============================================================================\n",
              "\n",
              "Notes:\n",
              "[1] Standard Errors assume that the covariance matrix of the errors is correctly specified.\n",
              "[2] The smallest eigenvalue is 1.65e-31. This might indicate that there are\n",
              "strong multicollinearity problems or that the design matrix is singular.\n",
              "\"\"\""
            ],
            "text/html": [
              "<table class=\"simpletable\">\n",
              "<caption>OLS Regression Results</caption>\n",
              "<tr>\n",
              "  <th>Dep. Variable:</th>       <td>final_test</td>    <th>  R-squared:         </th> <td>   0.676</td>\n",
              "</tr>\n",
              "<tr>\n",
              "  <th>Model:</th>                   <td>OLS</td>       <th>  Adj. R-squared:    </th> <td>   0.658</td>\n",
              "</tr>\n",
              "<tr>\n",
              "  <th>Method:</th>             <td>Least Squares</td>  <th>  F-statistic:       </th> <td>   37.61</td>\n",
              "</tr>\n",
              "<tr>\n",
              "  <th>Date:</th>             <td>Mon, 25 Sep 2023</td> <th>  Prob (F-statistic):</th> <td>8.59e-06</td>\n",
              "</tr>\n",
              "<tr>\n",
              "  <th>Time:</th>                 <td>06:58:51</td>     <th>  Log-Likelihood:    </th> <td> -76.325</td>\n",
              "</tr>\n",
              "<tr>\n",
              "  <th>No. Observations:</th>      <td>    20</td>      <th>  AIC:               </th> <td>   156.7</td>\n",
              "</tr>\n",
              "<tr>\n",
              "  <th>Df Residuals:</th>          <td>    18</td>      <th>  BIC:               </th> <td>   158.6</td>\n",
              "</tr>\n",
              "<tr>\n",
              "  <th>Df Model:</th>              <td>     1</td>      <th>                     </th>     <td> </td>   \n",
              "</tr>\n",
              "<tr>\n",
              "  <th>Covariance Type:</th>      <td>nonrobust</td>    <th>                     </th>     <td> </td>   \n",
              "</tr>\n",
              "</table>\n",
              "<table class=\"simpletable\">\n",
              "<tr>\n",
              "      <td></td>         <th>coef</th>     <th>std err</th>      <th>t</th>      <th>P>|t|</th>  <th>[0.025</th>    <th>0.975]</th>  \n",
              "</tr>\n",
              "<tr>\n",
              "  <th>Intercept</th> <td>   23.6995</td> <td>    4.714</td> <td>    5.028</td> <td> 0.000</td> <td>   13.796</td> <td>   33.603</td>\n",
              "</tr>\n",
              "<tr>\n",
              "  <th>quiz</th>      <td>    1.3107</td> <td>    0.214</td> <td>    6.133</td> <td> 0.000</td> <td>    0.862</td> <td>    1.760</td>\n",
              "</tr>\n",
              "<tr>\n",
              "  <th>mid_test</th>  <td>    2.6215</td> <td>    0.427</td> <td>    6.133</td> <td> 0.000</td> <td>    1.723</td> <td>    3.519</td>\n",
              "</tr>\n",
              "</table>\n",
              "<table class=\"simpletable\">\n",
              "<tr>\n",
              "  <th>Omnibus:</th>       <td> 2.139</td> <th>  Durbin-Watson:     </th> <td>   1.478</td>\n",
              "</tr>\n",
              "<tr>\n",
              "  <th>Prob(Omnibus):</th> <td> 0.343</td> <th>  Jarque-Bera (JB):  </th> <td>   1.773</td>\n",
              "</tr>\n",
              "<tr>\n",
              "  <th>Skew:</th>          <td> 0.670</td> <th>  Prob(JB):          </th> <td>   0.412</td>\n",
              "</tr>\n",
              "<tr>\n",
              "  <th>Kurtosis:</th>      <td> 2.422</td> <th>  Cond. No.          </th> <td>1.09e+17</td>\n",
              "</tr>\n",
              "</table><br/><br/>Notes:<br/>[1] Standard Errors assume that the covariance matrix of the errors is correctly specified.<br/>[2] The smallest eigenvalue is 1.65e-31. This might indicate that there are<br/>strong multicollinearity problems or that the design matrix is singular."
            ],
            "text/latex": "\\begin{center}\n\\begin{tabular}{lclc}\n\\toprule\n\\textbf{Dep. Variable:}    &   final\\_test    & \\textbf{  R-squared:         } &     0.676   \\\\\n\\textbf{Model:}            &       OLS        & \\textbf{  Adj. R-squared:    } &     0.658   \\\\\n\\textbf{Method:}           &  Least Squares   & \\textbf{  F-statistic:       } &     37.61   \\\\\n\\textbf{Date:}             & Mon, 25 Sep 2023 & \\textbf{  Prob (F-statistic):} &  8.59e-06   \\\\\n\\textbf{Time:}             &     06:58:51     & \\textbf{  Log-Likelihood:    } &   -76.325   \\\\\n\\textbf{No. Observations:} &          20      & \\textbf{  AIC:               } &     156.7   \\\\\n\\textbf{Df Residuals:}     &          18      & \\textbf{  BIC:               } &     158.6   \\\\\n\\textbf{Df Model:}         &           1      & \\textbf{                     } &             \\\\\n\\textbf{Covariance Type:}  &    nonrobust     & \\textbf{                     } &             \\\\\n\\bottomrule\n\\end{tabular}\n\\begin{tabular}{lcccccc}\n                   & \\textbf{coef} & \\textbf{std err} & \\textbf{t} & \\textbf{P$> |$t$|$} & \\textbf{[0.025} & \\textbf{0.975]}  \\\\\n\\midrule\n\\textbf{Intercept} &      23.6995  &        4.714     &     5.028  &         0.000        &       13.796    &       33.603     \\\\\n\\textbf{quiz}      &       1.3107  &        0.214     &     6.133  &         0.000        &        0.862    &        1.760     \\\\\n\\textbf{mid\\_test} &       2.6215  &        0.427     &     6.133  &         0.000        &        1.723    &        3.519     \\\\\n\\bottomrule\n\\end{tabular}\n\\begin{tabular}{lclc}\n\\textbf{Omnibus:}       &  2.139 & \\textbf{  Durbin-Watson:     } &    1.478  \\\\\n\\textbf{Prob(Omnibus):} &  0.343 & \\textbf{  Jarque-Bera (JB):  } &    1.773  \\\\\n\\textbf{Skew:}          &  0.670 & \\textbf{  Prob(JB):          } &    0.412  \\\\\n\\textbf{Kurtosis:}      &  2.422 & \\textbf{  Cond. No.          } & 1.09e+17  \\\\\n\\bottomrule\n\\end{tabular}\n%\\caption{OLS Regression Results}\n\\end{center}\n\nNotes: \\newline\n [1] Standard Errors assume that the covariance matrix of the errors is correctly specified. \\newline\n [2] The smallest eigenvalue is 1.65e-31. This might indicate that there are \\newline\n strong multicollinearity problems or that the design matrix is singular."
          },
          "metadata": {},
          "execution_count": 60
        }
      ]
    },
    {
      "cell_type": "code",
      "source": [],
      "metadata": {
        "id": "NCTEocHDIlsA"
      },
      "execution_count": null,
      "outputs": []
    }
  ]
}